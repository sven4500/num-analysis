{
 "cells": [
  {
   "cell_type": "markdown",
   "metadata": {},
   "source": [
    "В данном примере будет видно что БПФ хорошо справляется с сигналами в которых частоты присутствуют одновременно и их присутствие не обусловлено зависимостью от времени.\n",
    "\n",
    "В качестве примера был использован материал: http://ataspinar.com/2018/12/21/a-guide-for-using-the-wavelet-transform-in-machine-learning/"
   ]
  },
  {
   "cell_type": "code",
   "execution_count": null,
   "metadata": {},
   "outputs": [],
   "source": [
    "import numpy as np\n",
    "import matplotlib\n",
    "from matplotlib import pyplot"
   ]
  },
  {
   "cell_type": "code",
   "execution_count": null,
   "metadata": {},
   "outputs": [],
   "source": [
    "n = 2000\n",
    "n_4 = n // 4\n",
    "t = np.linspace(0., 2 * np.pi, n, endpoint=False)\n",
    "\n",
    "y_0 = 0.\n",
    "y_1 = 2. * np.cos(5 * t)\n",
    "y_2 = 5. * np.cos(13 * t)\n",
    "y_3 = 7. * np.cos(19 * t)\n",
    "y_4 = 3. * np.cos(31 * t)\n",
    "\n",
    "y_static = y_0 + y_1 + y_2 + y_3 + y_4"
   ]
  },
  {
   "cell_type": "markdown",
   "metadata": {},
   "source": [
    "На сигнале имеем 4 частоты. На этом сигнале все частоты присутствуют одновременно."
   ]
  },
  {
   "cell_type": "code",
   "execution_count": null,
   "metadata": {},
   "outputs": [],
   "source": [
    "matplotlib.pyplot.plot(t, y_static)"
   ]
  },
  {
   "cell_type": "markdown",
   "metadata": {},
   "source": [
    "После БПФ видим эти частоты в частотной области сигнала."
   ]
  },
  {
   "cell_type": "code",
   "execution_count": null,
   "metadata": {},
   "outputs": [],
   "source": [
    "df_static = np.fft.fft(y_static)\n",
    "matplotlib.pyplot.plot(np.abs(df_static)[:40], '--')"
   ]
  },
  {
   "cell_type": "markdown",
   "metadata": {},
   "source": [
    "Теперь представим сигнал в котором наличие частот зависит от времени. Ниже представлен сигнал в котором писутствуют те же частоты однако они присутствуют в сигнале не одновременно, а в разное время по одной частоте на одном интервале времени."
   ]
  },
  {
   "cell_type": "code",
   "execution_count": null,
   "metadata": {},
   "outputs": [],
   "source": [
    "y_dynamic = np.concatenate([y_1[0*n_4:1*n_4], y_2[1*n_4:2*n_4], y_3[2*n_4:3*n_4], y_4[3*n_4:4*n_4]])\n",
    "matplotlib.pyplot.plot(y_dynamic)\n",
    "assert len(y_dynamic) == len(y_static)"
   ]
  },
  {
   "cell_type": "markdown",
   "metadata": {},
   "source": [
    "После в частотной области этого сигнала невозможно явно оперделить какие частоты присутствуют в сигнале. На рисунке в принципе видны пики на соответствующих частотах, однако картина получается размазанной."
   ]
  },
  {
   "cell_type": "code",
   "execution_count": null,
   "metadata": {},
   "outputs": [],
   "source": [
    "df_dynamic = np.fft.fft(y_dynamic)\n",
    "matplotlib.pyplot.plot(np.abs(df_dynamic)[:40], '--')"
   ]
  },
  {
   "cell_type": "markdown",
   "metadata": {},
   "source": [
    "Можно посмотреть на частотный спектр обих сигналов одновременно с нормализацией."
   ]
  },
  {
   "cell_type": "code",
   "execution_count": null,
   "metadata": {},
   "outputs": [],
   "source": [
    "df_static_max = np.amax(np.abs(df_static))\n",
    "df_dynamic_max = np.amax(np.abs(df_dynamic))\n",
    "\n",
    "matplotlib.pyplot.plot(np.abs(df_static)[:40] / df_static_max, '--')\n",
    "matplotlib.pyplot.plot(np.abs(df_dynamic)[:40] / df_dynamic_max, '--')"
   ]
  },
  {
   "cell_type": "code",
   "execution_count": null,
   "metadata": {},
   "outputs": [],
   "source": []
  }
 ],
 "metadata": {
  "kernelspec": {
   "display_name": "Python 3",
   "language": "python",
   "name": "python3"
  },
  "language_info": {
   "codemirror_mode": {
    "name": "ipython",
    "version": 3
   },
   "file_extension": ".py",
   "mimetype": "text/x-python",
   "name": "python",
   "nbconvert_exporter": "python",
   "pygments_lexer": "ipython3",
   "version": "3.7.6"
  }
 },
 "nbformat": 4,
 "nbformat_minor": 4
}
