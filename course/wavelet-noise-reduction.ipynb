{
 "cells": [
  {
   "cell_type": "markdown",
   "metadata": {},
   "source": [
    "__Описание__\n",
    "\n",
    "В данном примере рассматривается простое удаление шума при помощи вейвлет анализа.\n",
    "\n",
    "Данный пример может быть загружен по адресу: https://github.com/sven4500/num-analysis"
   ]
  },
  {
   "cell_type": "code",
   "execution_count": null,
   "metadata": {},
   "outputs": [],
   "source": [
    "import numpy as np\n",
    "import matplotlib\n",
    "import pywt\n",
    "import scipy\n",
    "from matplotlib import pyplot"
   ]
  },
  {
   "cell_type": "code",
   "execution_count": null,
   "metadata": {},
   "outputs": [],
   "source": [
    "def mse(a, b):\n",
    "    return np.sqrt(np.sum(np.square(a - b)) / n)"
   ]
  },
  {
   "cell_type": "code",
   "execution_count": null,
   "metadata": {},
   "outputs": [],
   "source": [
    "n = 2000\n",
    "sigma = 0.1\n",
    "\n",
    "t = np.linspace(0., 4. * np.pi, n, endpoint=False)\n",
    "y = 2. * np.sin(t) + 0.5 * np.cos(3. * t)\n",
    "y_noised = y + np.random.normal(0., sigma, size=n)\n",
    "\n",
    "matplotlib.pyplot.plot(y_noised, color='orange')\n",
    "matplotlib.pyplot.plot(y, color='black')"
   ]
  },
  {
   "cell_type": "markdown",
   "metadata": {},
   "source": [
    "Очистка сигнала от шума заключается в 3 шагах:\n",
    "\n",
    "1. Делаем прямое вейвлет преобразование;\n",
    "\n",
    "2. Вычисляем порговое значение и оставляем только те дискреты которые больше порога;\n",
    "\n",
    "3. Делаем обратное вейвлет преобразование.\n",
    "\n",
    "Функция __wavedec__ производит прямое дискретное вейвлет преобразование (__анализ__) на заданном количестве уровней. Возвращает несколько массивов. Первый массив содержит аппроксимационные коэффициенты. Остальные массивы это детализирующие коэффициенты, каждый для своего уровня разложения."
   ]
  },
  {
   "cell_type": "code",
   "execution_count": null,
   "metadata": {},
   "outputs": [],
   "source": [
    "dwt = pywt.wavedec(y_noised, 'sym20', level=3)\n",
    "\n",
    "for i in dwt[1:]:\n",
    "    matplotlib.pyplot.plot(i)"
   ]
  },
  {
   "cell_type": "markdown",
   "metadata": {},
   "source": [
    "Производим удаление ненужных коэффициентов по пороговому критерию."
   ]
  },
  {
   "cell_type": "code",
   "execution_count": null,
   "metadata": {},
   "outputs": [],
   "source": [
    "#dwt_approx_log2 = np.log2(np.abs(dwt_approx) + 1e-12)\n",
    "#dwt_detail_log2 = np.log2(np.abs(dwt_detail) + 1e-12)\n",
    "\n",
    "#th_approx = -np.sqrt(np.sum(np.square(dwt_approx_log2))) / len(dwt_approx_log2)\n",
    "#th_detail = -np.sqrt(np.sum(np.square(dwt_detail_log2))) / len(dwt_detail_log2)\n",
    "\n",
    "for i in dwt[1:]:\n",
    "    n_level = len(i)\n",
    "    sigma_level = np.sqrt(np.sum(np.square(i)) / n_level)\n",
    "    th = sigma_level * np.sqrt(2 * np.log2(n_level) / n_level)\n",
    "    i[:] = [j if np.abs(j) < th else 0. for j in i]\n",
    "\n",
    "for i in dwt[1:]:\n",
    "    matplotlib.pyplot.plot(i)"
   ]
  },
  {
   "cell_type": "markdown",
   "metadata": {},
   "source": [
    "Делаем обратное вейвлет преобразование (__синтез__)."
   ]
  },
  {
   "cell_type": "code",
   "execution_count": null,
   "metadata": {},
   "outputs": [],
   "source": [
    "y_denoised = pywt.waverec(dwt, wavelet='sym20')\n",
    "print('MSE noise', mse(y, y_noised), 'MSE denoise', mse(y, y_denoised))\n",
    "\n",
    "matplotlib.pyplot.plot(y_noised, 'orange')\n",
    "matplotlib.pyplot.plot(y_denoised, 'black')"
   ]
  },
  {
   "cell_type": "markdown",
   "metadata": {},
   "source": [
    "Делаем то же самое при помощи преобразования Фурье."
   ]
  },
  {
   "cell_type": "code",
   "execution_count": null,
   "metadata": {},
   "outputs": [],
   "source": [
    "fft = scipy.fft.fft(y_noised)\n",
    "th = np.sqrt(np.sum(np.square(np.abs(fft))) / len(fft))\n",
    "fft = [i if np.abs(i) > th else 0. for i in fft]\n",
    "#matplotlib.pyplot.plot(np.abs(fft)[:50])"
   ]
  },
  {
   "cell_type": "code",
   "execution_count": null,
   "metadata": {},
   "outputs": [],
   "source": [
    "y_denoised = scipy.fft.ifft(fft).real\n",
    "print('MSE noise', mse(y, y_noised), 'MSE denoise', mse(y, y_denoised))\n",
    "\n",
    "matplotlib.pyplot.plot(y_noised, 'orange')\n",
    "matplotlib.pyplot.plot(y_denoised, 'black')"
   ]
  },
  {
   "cell_type": "markdown",
   "metadata": {},
   "source": [
    "__Источники__\n",
    "\n",
    "[1] Noise Reduction of Speech Signal using Wavelet Transform with Modified Universal Threshold // https://www.researchgate.net/publication/258493830_Noise_Reduction_of_Speech_Signal_using_Wavelet_Transform_with_Modified_Universal_Threshold\n",
    "\n",
    "[2] Simple Denoising Algorithm Using Wavelet Transform // https://arxiv.org/abs/nlin/0002028\n",
    "\n",
    "[3] Time Series Forecasting Using Wavelet Denoising an Application to Saudi Stock Index // https://www.sciencedirect.com/science/article/pii/S1018363918307554#bib12"
   ]
  }
 ],
 "metadata": {
  "kernelspec": {
   "display_name": "Python 3",
   "language": "python",
   "name": "python3"
  },
  "language_info": {
   "codemirror_mode": {
    "name": "ipython",
    "version": 3
   },
   "file_extension": ".py",
   "mimetype": "text/x-python",
   "name": "python",
   "nbconvert_exporter": "python",
   "pygments_lexer": "ipython3",
   "version": "3.7.6"
  }
 },
 "nbformat": 4,
 "nbformat_minor": 4
}
