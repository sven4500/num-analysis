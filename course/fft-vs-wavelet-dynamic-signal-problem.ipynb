{
 "cells": [
  {
   "cell_type": "markdown",
   "metadata": {},
   "source": [
    "В данном примере будет видно что БПФ хорошо справляется с сигналами в которых частоты присутствуют одновременно и их присутствие не обусловлено зависимостью от времени."
   ]
  },
  {
   "cell_type": "code",
   "execution_count": null,
   "metadata": {},
   "outputs": [],
   "source": [
    "import numpy as np\n",
    "import matplotlib\n",
    "from matplotlib import pyplot\n",
    "%run ../lab-3/lab-3-spectrogram.ipynb"
   ]
  },
  {
   "cell_type": "code",
   "execution_count": null,
   "metadata": {},
   "outputs": [],
   "source": [
    "n = 2000\n",
    "n_4 = n // 4\n",
    "t = np.linspace(0., 2 * np.pi, n, endpoint=False)\n",
    "\n",
    "y_0 = 0.\n",
    "y_1 = 3. * np.cos(5 * t)\n",
    "y_2 = 7. * np.cos(13 * t)\n",
    "y_3 = 5. * np.cos(19 * t)\n",
    "y_4 = 11. * np.cos(31 * t)\n",
    "\n",
    "y_static = y_0 + y_1 + y_2 + y_3 + y_4"
   ]
  },
  {
   "cell_type": "markdown",
   "metadata": {},
   "source": [
    "Сигнал состоит из 4 частот. На этом сигнале все частоты присутствуют одновременно."
   ]
  },
  {
   "cell_type": "code",
   "execution_count": null,
   "metadata": {},
   "outputs": [],
   "source": [
    "matplotlib.pyplot.plot(t, y_static)"
   ]
  },
  {
   "cell_type": "markdown",
   "metadata": {},
   "source": [
    "После БПФ видим эти частоты в частотной области сигнала."
   ]
  },
  {
   "cell_type": "code",
   "execution_count": null,
   "metadata": {},
   "outputs": [],
   "source": [
    "df_static = np.fft.fft(y_static)\n",
    "matplotlib.pyplot.plot(np.abs(df_static)[:40], '--')"
   ]
  },
  {
   "cell_type": "markdown",
   "metadata": {},
   "source": [
    "Теперь представим сигнал в котором наличие частот зависит от времени. Ниже представлен сигнал в котором писутствуют те же частоты однако они присутствуют в сигнале не одновременно, а в разное время по одной частоте на каждом отрезке времени."
   ]
  },
  {
   "cell_type": "code",
   "execution_count": null,
   "metadata": {},
   "outputs": [],
   "source": [
    "y_dynamic = np.concatenate([y_1[0*n_4:1*n_4], y_2[1*n_4:2*n_4], y_3[2*n_4:3*n_4], y_4[3*n_4:4*n_4]])\n",
    "matplotlib.pyplot.plot(y_dynamic)\n",
    "assert len(y_dynamic) == len(y_static)"
   ]
  },
  {
   "cell_type": "markdown",
   "metadata": {},
   "source": [
    "В частотной области этого сигнала невозможно явно оперделить какие частоты присутствуют в сигнале. На рисунке в принципе видны пики на соответствующих частотах, однако картина получается размытой."
   ]
  },
  {
   "cell_type": "code",
   "execution_count": null,
   "metadata": {},
   "outputs": [],
   "source": [
    "df_dynamic = np.fft.fft(y_dynamic)\n",
    "matplotlib.pyplot.plot(np.abs(df_dynamic)[:40], '--')"
   ]
  },
  {
   "cell_type": "markdown",
   "metadata": {},
   "source": [
    "Можно посмотреть на частотный спектр обих сигналов одновременно с нормализацией."
   ]
  },
  {
   "cell_type": "code",
   "execution_count": null,
   "metadata": {},
   "outputs": [],
   "source": [
    "df_static_max = np.amax(np.abs(df_static))\n",
    "df_dynamic_max = np.amax(np.abs(df_dynamic))\n",
    "\n",
    "matplotlib.pyplot.plot(np.abs(df_static)[:40] / df_static_max, '--')\n",
    "matplotlib.pyplot.plot(np.abs(df_dynamic)[:40] / df_dynamic_max, '--')"
   ]
  },
  {
   "cell_type": "markdown",
   "metadata": {},
   "source": [
    "Для анализа динамического сигнала можно использовать оконное преобразование Фурье. Результат оконного преобразования Фурье это двумерная картинка в которой во горизонтальной оси отложено время, а по вертикальной оси частоты. Цветом кодируется интенсивность. Таким образом оконное преобразование Фурье показывает эволюцию частот по времени. На картинках ниже представлено оконное преобразование Фурье."
   ]
  },
  {
   "cell_type": "code",
   "execution_count": null,
   "metadata": {},
   "outputs": [],
   "source": [
    "s_1 = spectrogram(y_dynamic, 2048, 1.0)\n",
    "s_2 = spectrogram(y_dynamic, 2048, 500.0)\n",
    "\n",
    "fig, ax = matplotlib.pyplot.subplots(2,1)\n",
    "\n",
    "#ax[0].set_title('Широкое окно - неопределённость по времени')\n",
    "ax[0].matshow(np.abs(s_1).T[:100,:], aspect='auto')\n",
    "\n",
    "#ax[1].set_title('Узкое окно - неопределённость по частотам')\n",
    "ax[1].matshow(np.abs(s_2).T[:100,:], aspect='auto')"
   ]
  },
  {
   "cell_type": "markdown",
   "metadata": {},
   "source": [
    "Оконное преобразование Фурье имеет недостаток который характеризуется неопределённостью времени и частоты. Чем точнее на спектрограмме время, тем расплывчатее частоты (второй рисунок) и наоборот чем точнее частоты тем менее определённое время (первый рисунок).\n",
    "\n",
    "Для того чтобы анализировать такие динамические сигналы используют вейвлеи анализ. В питоне есть библиотека __pywt__ для работы с вейвлетами и модуль __scaleogram__ для построения скалограмм."
   ]
  },
  {
   "cell_type": "code",
   "execution_count": null,
   "metadata": {},
   "outputs": [],
   "source": [
    "import pywt\n",
    "import scaleogram as scg"
   ]
  },
  {
   "cell_type": "markdown",
   "metadata": {},
   "source": [
    "Народобие спектрограммы которая получается с помощью оконного преобразования Фурье, вейвлет преобразование также можно рассмотреть на двумерной плоскости. Такой рисунок называется __скалограммой__. На скалограмме по горизонтале отложено время (точно также как на спектрограмме) однако по вертикале отложен фактор растяжения вейвлета."
   ]
  },
  {
   "cell_type": "code",
   "execution_count": null,
   "metadata": {},
   "outputs": [],
   "source": [
    "scg.set_default_wavelet('cmor1-1.5')\n",
    "#scg.set_default_wavelet('cgau5')\n",
    "#scg.set_default_wavelet('cgau1')\n",
    "#scg.set_default_wavelet('shan0.5-2')\n",
    "#scg.set_default_wavelet('mexh')"
   ]
  },
  {
   "cell_type": "code",
   "execution_count": null,
   "metadata": {},
   "outputs": [],
   "source": [
    "scales = scg.periods2scales(np.arange(1, 300))\n",
    "#scales = scg.periods2scales([5, 13, 19, 31])\n",
    "scg.cws(y_dynamic, scales=scales); # figsize=(6.9,2.3)"
   ]
  },
  {
   "cell_type": "markdown",
   "metadata": {},
   "source": [
    "На картинке выше видно явно выделенные временные домены в которых присутствует только один вейвлет."
   ]
  },
  {
   "cell_type": "code",
   "execution_count": null,
   "metadata": {},
   "outputs": [],
   "source": [
    "scales = scg.periods2scales(np.arange(1, 300))\n",
    "scg.cws(y_static, scales=scales);"
   ]
  },
  {
   "cell_type": "markdown",
   "metadata": {},
   "source": [
    "Тот же, но статический сигнал. На картинке видно что в каждый момент времени сигнал состоит из нескольких вейвлетов одновременно в отличие от предыдущей картинки."
   ]
  },
  {
   "cell_type": "markdown",
   "metadata": {},
   "source": [
    "В качестве примера был использован материал:\n",
    "\n",
    "[1] http://ataspinar.com/2018/12/21/a-guide-for-using-the-wavelet-transform-in-machine-learning/\n",
    "\n",
    "[2] https://blog.octo.com/en/time-series-features-extraction-using-fourier-and-wavelet-transforms-on-ecg-data/\n",
    "\n",
    "[3] https://www.kaggle.com/asauve/a-gentle-introduction-to-wavelet-for-data-analysis/notebook?scriptVersionId=12579739#Introduction"
   ]
  },
  {
   "cell_type": "code",
   "execution_count": null,
   "metadata": {},
   "outputs": [],
   "source": []
  }
 ],
 "metadata": {
  "kernelspec": {
   "display_name": "Python 3",
   "language": "python",
   "name": "python3"
  },
  "language_info": {
   "codemirror_mode": {
    "name": "ipython",
    "version": 3
   },
   "file_extension": ".py",
   "mimetype": "text/x-python",
   "name": "python",
   "nbconvert_exporter": "python",
   "pygments_lexer": "ipython3",
   "version": "3.7.6"
  }
 },
 "nbformat": 4,
 "nbformat_minor": 4
}
