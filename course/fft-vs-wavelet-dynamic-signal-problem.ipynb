{
 "cells": [
  {
   "cell_type": "markdown",
   "metadata": {},
   "source": [
    "В данном примере будет рассмотрен базовый вейвлет анализ стационарных и нестационарных сигналов. Будут рассмотрены некоторые различия БПФ преобразования (в том числе оконного преобразования Фурье) от вейвлет преобразования. Преобразование Фурье хорошо справляется с сигналами в которых частоты присутствуют одновременно и их присутствие не обусловлено зависимостью от времени (стационарные сигналы), однако в силу определённых ограничений плохо справляется с нестационарными сигналами. Вейвлет анализ помогает решить эту проблему. В частности будут рассмотрен особый тип представления вейвлет преобразованя - скалограмма.\n",
    "\n",
    "Данный пример может быть загружен по адресу: https://github.com/sven4500/num-analysis"
   ]
  },
  {
   "cell_type": "code",
   "execution_count": null,
   "metadata": {},
   "outputs": [],
   "source": [
    "import numpy as np\n",
    "import matplotlib\n",
    "from matplotlib import pyplot\n",
    "%run ../lab-3/lab-3-spectrogram.ipynb"
   ]
  },
  {
   "cell_type": "code",
   "execution_count": null,
   "metadata": {},
   "outputs": [],
   "source": [
    "n = 2000\n",
    "n_4 = n // 4\n",
    "t = np.linspace(0., 2 * np.pi, n, endpoint=False)\n",
    "\n",
    "y_0 = 0.\n",
    "y_1 = 3. * np.cos(5 * t)\n",
    "y_2 = 7. * np.cos(13 * t)\n",
    "y_3 = 5. * np.cos(19 * t)\n",
    "y_4 = 11. * np.cos(31 * t)\n",
    "\n",
    "y_static = y_0 + y_1 + y_2 + y_3 + y_4"
   ]
  },
  {
   "cell_type": "markdown",
   "metadata": {},
   "source": [
    "Сигнал состоит из 4 частот. На этом сигнале все частоты присутствуют одновременно."
   ]
  },
  {
   "cell_type": "code",
   "execution_count": null,
   "metadata": {},
   "outputs": [],
   "source": [
    "matplotlib.pyplot.plot(t, y_static)"
   ]
  },
  {
   "cell_type": "markdown",
   "metadata": {},
   "source": [
    "После БПФ видим эти частоты в частотной области сигнала."
   ]
  },
  {
   "cell_type": "code",
   "execution_count": null,
   "metadata": {},
   "outputs": [],
   "source": [
    "df_static = np.fft.fft(y_static)\n",
    "matplotlib.pyplot.plot(np.abs(df_static)[:40], '--')"
   ]
  },
  {
   "cell_type": "markdown",
   "metadata": {},
   "source": [
    "Теперь представим сигнал в котором наличие частот зависит от времени. Ниже представлен сигнал в котором писутствуют те же частоты однако они присутствуют в сигнале не одновременно, а в разное время по одной частоте на каждом отрезке времени."
   ]
  },
  {
   "cell_type": "code",
   "execution_count": null,
   "metadata": {},
   "outputs": [],
   "source": [
    "y_dynamic = np.concatenate([y_1[0*n_4:1*n_4], y_2[1*n_4:2*n_4], y_3[2*n_4:3*n_4], y_4[3*n_4:4*n_4]])\n",
    "matplotlib.pyplot.plot(y_dynamic)\n",
    "assert len(y_dynamic) == len(y_static)"
   ]
  },
  {
   "cell_type": "markdown",
   "metadata": {},
   "source": [
    "В частотной области этого сигнала невозможно явно оперделить какие частоты присутствуют в сигнале. На рисунке в принципе видны пики на соответствующих частотах, однако картина получается размытой."
   ]
  },
  {
   "cell_type": "code",
   "execution_count": null,
   "metadata": {},
   "outputs": [],
   "source": [
    "df_dynamic = np.fft.fft(y_dynamic)\n",
    "matplotlib.pyplot.plot(np.abs(df_dynamic)[:40], '--')"
   ]
  },
  {
   "cell_type": "markdown",
   "metadata": {},
   "source": [
    "Можно посмотреть на частотный спектр обих сигналов одновременно с нормализацией. Видим что частоты для стационарного и нестационарного сигналов в целом соответствуют друг другу, однако в случае нестационарного сигнала спектр не чёткий."
   ]
  },
  {
   "cell_type": "code",
   "execution_count": null,
   "metadata": {},
   "outputs": [],
   "source": [
    "df_static_max = np.amax(np.abs(df_static))\n",
    "df_dynamic_max = np.amax(np.abs(df_dynamic))\n",
    "\n",
    "matplotlib.pyplot.plot(np.abs(df_static)[:40] / df_static_max, '--')\n",
    "matplotlib.pyplot.plot(np.abs(df_dynamic)[:40] / df_dynamic_max, '--')"
   ]
  },
  {
   "cell_type": "markdown",
   "metadata": {},
   "source": [
    "Для анализа нестационарного сигнала можно использовать оконное преобразование Фурье. Результат оконного преобразования Фурье это двумерная картинка в которой во горизонтальной оси отложено время, а по вертикальной оси частоты. Цветом кодируется интенсивность или амплитуда этой частоты. Таким образом оконное преобразование Фурье показывает эволюцию частот во времени. На картинках ниже представлено оконное преобразование Фурье."
   ]
  },
  {
   "cell_type": "code",
   "execution_count": null,
   "metadata": {},
   "outputs": [],
   "source": [
    "s_1 = spectrogram(y_dynamic, 2048, 1.0)\n",
    "s_2 = spectrogram(y_dynamic, 2048, 500.0)\n",
    "\n",
    "fig, ax = matplotlib.pyplot.subplots(2,1)\n",
    "\n",
    "#ax[0].set_title('Широкое окно - неопределённость по времени')\n",
    "ax[0].matshow(np.abs(s_1).T[:100,:], aspect='auto')\n",
    "\n",
    "#ax[1].set_title('Узкое окно - неопределённость по частотам')\n",
    "ax[1].matshow(np.abs(s_2).T[:100,:], aspect='auto')"
   ]
  },
  {
   "cell_type": "markdown",
   "metadata": {},
   "source": [
    "Оконное преобразование Фурье имеет недостаток который характеризуется неопределённостью времени и частоты. Чем-то напоминает неопределённость Гейзенберга. Чем точнее на спектрограмме время, тем расплывчатее частоты (нижний рисунок) и наоборот чем точнее частоты тем менее определённое время (верхний рисунок).\n",
    "\n",
    "Для того чтобы анализировать такие нестационарные сигналы можно воспользоваться вейвлет анализом. Библиотека __scipy__ имеет средства для работы с вейвлетами."
   ]
  },
  {
   "cell_type": "code",
   "execution_count": null,
   "metadata": {},
   "outputs": [],
   "source": [
    "import scipy\n",
    "from scipy import signal"
   ]
  },
  {
   "cell_type": "markdown",
   "metadata": {},
   "source": [
    "Вейвлет это особая конечная во времени функция которая используется как базисная функция в терминах которой раскладывается сигнал. Преобразование Фурье в свою очередь раскладывает сигнал на гармонические функции синуса или косинуса. Ниже представлен вейвлет Рикера также известный как вейвлет \"мексиканская шляпа\" для различных коэффициентов растяжения."
   ]
  },
  {
   "cell_type": "code",
   "execution_count": null,
   "metadata": {},
   "outputs": [],
   "source": [
    "n_wt = 150\n",
    "\n",
    "mexh_1 = scipy.signal.ricker(n_wt, 1.)\n",
    "mexh_5 = scipy.signal.ricker(n_wt, 5.)\n",
    "mexh_20 = scipy.signal.ricker(n_wt, 20.)\n",
    "\n",
    "matplotlib.pyplot.plot(mexh_1)\n",
    "matplotlib.pyplot.plot(mexh_5)\n",
    "matplotlib.pyplot.plot(mexh_20)"
   ]
  },
  {
   "cell_type": "markdown",
   "metadata": {},
   "source": [
    "Вейвлет преобразование как и преобразование Фурье может быть как прямым, так и обратным. Прямое вейвлет преобразование определяется как свъёртка исходного сигнала с заданным вейвлетом. На картинке ниже представлено прямое вейвлет преобразование для вейвлета с коэффициентом растяжения 5."
   ]
  },
  {
   "cell_type": "code",
   "execution_count": null,
   "metadata": {},
   "outputs": [],
   "source": [
    "dwt = scipy.signal.convolve(y_dynamic, scipy.signal.ricker(n, 5.), mode='same')\n",
    "matplotlib.pyplot.plot(dwt)"
   ]
  },
  {
   "cell_type": "markdown",
   "metadata": {},
   "source": [
    "В составе библиотеки __scipy__ имеется функция __cwt__ которая может посчитать пямое вейвлет преобразование сразу для серии вейвлетов (т.е. для вейвлетов с различными коэффициентами растяжения). Ниже представлен результат вейвлет преобразования нестационарного сигнала для серии коэффициентов растяжения вейвлета \"мексиканская шляпа\"."
   ]
  },
  {
   "cell_type": "code",
   "execution_count": null,
   "metadata": {},
   "outputs": [],
   "source": [
    "widths = np.arange(1, 80)\n",
    "scalogram = scipy.signal.cwt(y_dynamic, scipy.signal.ricker, widths) # <- ricker == mexican hat\n",
    "\n",
    "for i in scalogram[:5]:\n",
    "    matplotlib.pyplot.plot(i)\n",
    "\n",
    "matplotlib.pyplot.ylim(top=5, bottom=-5)"
   ]
  },
  {
   "cell_type": "markdown",
   "metadata": {},
   "source": [
    "Народобие спектрограммы которая получается с помощью оконного преобразования Фурье, вейвлет преобразование также можно рассмотреть на двумерной плоскости если расположить результат вейвлет преобразования так как это делается для построения спектрограммы. Такой рисунок называется __скалограммой__ (англ. scale растяжение). На скалограмме по горизонтале отложено время (точно также как на спектрограмме) однако по вертикале отложен коэффициент растяжения вейвлета. На картинке ниже видно явно выделенные временные домены в которых присутствует только один вейвлет."
   ]
  },
  {
   "cell_type": "code",
   "execution_count": null,
   "metadata": {},
   "outputs": [],
   "source": [
    "matplotlib.pyplot.imshow(scalogram, aspect='auto')"
   ]
  },
  {
   "cell_type": "markdown",
   "metadata": {},
   "source": [
    "Существует ещё один модуль __pywt__ (Python Wavelets) который используется для работы с вейвлетами."
   ]
  },
  {
   "cell_type": "code",
   "execution_count": null,
   "metadata": {},
   "outputs": [],
   "source": [
    "import pywt"
   ]
  },
  {
   "cell_type": "markdown",
   "metadata": {},
   "source": [
    "Этот модуль разделяет дискретное и непрерывное вейвлет преобразование. Доступные в этом пакете дискретные и непрерывные вейвлеты можно получить вызвав одну из следующих команду ниже."
   ]
  },
  {
   "cell_type": "code",
   "execution_count": null,
   "metadata": {},
   "outputs": [],
   "source": [
    "print(pywt.wavelist(kind='discrete'), pywt.wavelist(kind='continuous'), sep='\\n\\n')"
   ]
  },
  {
   "cell_type": "markdown",
   "metadata": {},
   "source": [
    "Непрерывное вейвлет преобразование можно выполнить вызвав метод __cwt__ (англ. Continuous Wavelet Transform). Результат работы этой функции аналогичен вызову метода из модуля __scipy__. Скалограмма также идентичная скалограмме полученной средствами библиотеки __scipy__."
   ]
  },
  {
   "cell_type": "code",
   "execution_count": null,
   "metadata": {},
   "outputs": [],
   "source": [
    "cwt, freq = pywt.cwt(y_dynamic, np.arange(1, 80), wavelet='mexh')\n",
    "matplotlib.pyplot.imshow(cwt, aspect='auto')"
   ]
  },
  {
   "cell_type": "markdown",
   "metadata": {},
   "source": [
    "Функция __dwt__ производит дискретное вейвлет преобразование сигнала. Название дискретное __dwt__ и непрерывное __cwt__ вейвлет преобразование в контексте компьютерных вычислений может сбить с толку. Оба типа преобразований выполняются на компрьютере и оба типа преобразований являются \"дискретными\". __dwt__ было разработано специально чтобы повысить скорость работы вейвлет анализа. Иногда __dwt__ называют FWT (_англ._ Fast Wavelet Transform) по аналогии с FFT (_англ._ Fast Fourier Transform). В целом __dwt__ отличается от __cwt__ по нескольким пунктам:\n",
    "\n",
    "1. __dwt__ предполагает что не все данные представляют интерес для обработки поэтому после определённых допущений результат преобразования сокращается в 2 раза (так называемый каскадный алгоритм);\n",
    "\n",
    "2. __dwt__ по мимо вейвлета использует ещё одну функцию которая называется масштабирующей функцией;\n",
    "\n",
    "3. __dwt__ реализует свёртку сигнала немного иначе.\n",
    "\n",
    "В целом __dwt__ и __cwt__ носят одинаковую смысловую нагрузку. Таким образом, там где например необходима высокая сеорость обработки вейвлетов или алгоритмы передачи данных используют вейвлет анализ можно использовать быстрый __dwt__. Там где задача предполагает исследовательскую работу нужно использовать __cwt__."
   ]
  },
  {
   "cell_type": "code",
   "execution_count": null,
   "metadata": {},
   "outputs": [],
   "source": [
    "_, dwt = pywt.dwt(y_dynamic, 'db2') # <- вейвлет Дебоши\n",
    "matplotlib.pyplot.plot(dwt)"
   ]
  },
  {
   "cell_type": "markdown",
   "metadata": {},
   "source": [
    "Можно провести серию преобразований __dwt__ которе делается с помощью функции __wavedec__. Из графика видно что размер __dwt__ преобразование на каждом последующем уровне менше в 2 раза."
   ]
  },
  {
   "cell_type": "code",
   "execution_count": null,
   "metadata": {},
   "outputs": [],
   "source": [
    "#dwt = pywt.dwtn(y_dynamic, 'db2')\n",
    "#swt = pywt.swt(y_dynamic, 'db2')\n",
    "wavedec = pywt.wavedec(y_dynamic, 'db2', level=4)\n",
    "for i in wavedec[1:]:\n",
    "    matplotlib.pyplot.plot(i)\n",
    "    print(len(i))"
   ]
  },
  {
   "cell_type": "markdown",
   "metadata": {},
   "source": [
    "Модуль __scaleogram__ ещё один отдельный модуль для работы с вейвлетами однако его основная функция это построение скалограмм."
   ]
  },
  {
   "cell_type": "code",
   "execution_count": null,
   "metadata": {},
   "outputs": [],
   "source": [
    "import scaleogram as scg"
   ]
  },
  {
   "cell_type": "markdown",
   "metadata": {},
   "source": [
    "Метод __set_default_wavelet__ позволяет задат вейвлет по умолчанию чтобы явно не указывать тип вейвлета при всех дальнейших вызовах функций."
   ]
  },
  {
   "cell_type": "code",
   "execution_count": null,
   "metadata": {},
   "outputs": [],
   "source": [
    "#scg.set_default_wavelet('cmor1-1.5')\n",
    "#scg.set_default_wavelet('cgau5')\n",
    "#scg.set_default_wavelet('cgau1')\n",
    "#scg.set_default_wavelet('shan0.5-2') # <- вейвлет Шеннона\n",
    "#scg.set_default_wavelet('mexh') # <- вейвлет Рикера (мексиканская шляпа)"
   ]
  },
  {
   "cell_type": "markdown",
   "metadata": {},
   "source": [
    "Скалограмма построенная средствами библиотеки __scaleogram__ идентична уже ранее построеной скалеограмме средствами библиотеки __scipy__ или __pywt__."
   ]
  },
  {
   "cell_type": "code",
   "execution_count": null,
   "metadata": {},
   "outputs": [],
   "source": [
    "scales = scg.periods2scales(np.arange(1, 50))\n",
    "#scales = scg.periods2scales([5, 13, 19, 31])\n",
    "scg.cws(y_dynamic, scales=scales, wavelet='mexh') # figsize=(6.9,2.3)"
   ]
  },
  {
   "cell_type": "markdown",
   "metadata": {},
   "source": [
    "Тот же, но стационарный сигнал показан на картинке ниже. На картинке видно что в каждый момент времени сигнал состоит из нескольких вейвлетов одновременно в отличие от нестационарного сигнала."
   ]
  },
  {
   "cell_type": "code",
   "execution_count": null,
   "metadata": {},
   "outputs": [],
   "source": [
    "scales = scg.periods2scales(np.arange(1, 300))\n",
    "scg.cws(y_static, scales=scales, wavelet='cmor1-1.5')"
   ]
  },
  {
   "cell_type": "markdown",
   "metadata": {},
   "source": [
    "С помощью вейвлет анализа можно посмотреть шум."
   ]
  },
  {
   "cell_type": "code",
   "execution_count": null,
   "metadata": {},
   "outputs": [],
   "source": [
    "noise = np.random.normal(size=200)\n",
    "matplotlib.pyplot.plot(noise)\n",
    "\n",
    "scales = scg.periods2scales(np.arange(1, 100))\n",
    "scg.cws(noise, scales=scales)"
   ]
  },
  {
   "cell_type": "markdown",
   "metadata": {},
   "source": [
    "- [ ] покажи применение вейвлетов для изображений\n",
    "- [ ] покажи как с помощью вейвлетов можно провести анализ и синтез. например для очистки изображения от шума."
   ]
  },
  {
   "cell_type": "markdown",
   "metadata": {},
   "source": [
    "Итоги\n",
    "\n",
    "В данном примере были рассмотрены три библиотеки: __scipy__, __pywt__ и __scalogram__. Каждая библиотека имеет свои особенности. Непрерывное вейвлет преобразование можно пострить с помощью как __scipy__, так и __pywt__. Однако в библиотеке __scipy__ нехватает разнообразия вейвлет функций по сравнению со специализированной библиотекой __pywt__. Библиотека __scaleogram__ рассчитана для быстрого построения скалограм. В целом достаточно только модуля __scipy__ для самых базовых операций в вейвлет анализе. В остальном стоит воспользоваться модулем __pywt__. Если требуется представление результата на скалограмме, то стоит воспользоваться модулем __scaleogram__ что рисования красивых графиков."
   ]
  },
  {
   "cell_type": "markdown",
   "metadata": {},
   "source": [
    "Источники:\n",
    "\n",
    "[1] A guide for using the Wavelet Transform in Machine Learning // http://ataspinar.com/2018/12/21/a-guide-for-using-the-wavelet-transform-in-machine-learning/\n",
    "\n",
    "[2] Time series features extraction using Fourier and Wavelet transforms on ECG data // https://blog.octo.com/en/time-series-features-extraction-using-fourier-and-wavelet-transforms-on-ecg-data/\n",
    "\n",
    "[3] A gentle introduction to wavelet for data analysis // https://www.kaggle.com/asauve/a-gentle-introduction-to-wavelet-for-data-analysis/notebook?scriptVersionId=12579739#Introduction\n",
    "\n",
    "[4] Multiple Time Series Classification by Using Continuous Wavelet Transformation // https://towardsdatascience.com/multiple-time-series-classification-by-using-continuous-wavelet-transformation-d29df97c0442\n",
    "\n",
    "[5] Introduction to Wavelets in Image Processing // http://inside.mines.edu/~whoff/courses/EENG510/lectures/24-Wavelets.pdf\n",
    "\n",
    "[6] Using continuous verses discrete wavelet transform in digital applications // https://dsp.stackexchange.com/questions/8009/using-continuous-verses-discrete-wavelet-transform-in-digital-applications\n",
    "\n",
    "[7] What is the difference between the Continuous and Discrete wavelet transform? // https://www.quora.com/What-is-the-difference-between-the-Continuous-and-Discrete-wavelet-transform"
   ]
  },
  {
   "cell_type": "code",
   "execution_count": null,
   "metadata": {},
   "outputs": [],
   "source": []
  }
 ],
 "metadata": {
  "kernelspec": {
   "display_name": "Python 3",
   "language": "python",
   "name": "python3"
  },
  "language_info": {
   "codemirror_mode": {
    "name": "ipython",
    "version": 3
   },
   "file_extension": ".py",
   "mimetype": "text/x-python",
   "name": "python",
   "nbconvert_exporter": "python",
   "pygments_lexer": "ipython3",
   "version": "3.7.6"
  }
 },
 "nbformat": 4,
 "nbformat_minor": 4
}
