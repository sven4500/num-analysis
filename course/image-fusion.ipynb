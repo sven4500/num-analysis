{
 "cells": [
  {
   "cell_type": "markdown",
   "metadata": {},
   "source": [
    "__Описание__\n",
    "\n",
    "В данном примере рассматривается двумерное вейвлет преобразование. Рассмтривается процесс изменения спектральной области изображения. Также рассматривается синтез изображения из двух исходных.\n",
    "\n",
    "Данный пример может быть загружен по адресу: https://github.com/sven4500/num-analysis"
   ]
  },
  {
   "cell_type": "code",
   "execution_count": null,
   "metadata": {},
   "outputs": [],
   "source": [
    "import numpy as np\n",
    "import pywt\n",
    "import matplotlib\n",
    "from matplotlib import pyplot\n",
    "from matplotlib import image"
   ]
  },
  {
   "cell_type": "markdown",
   "metadata": {},
   "source": [
    "Работать с цветным изображением сложнее поэтому определяем функцию преобразования цветного изображения в чёрно-белое."
   ]
  },
  {
   "cell_type": "code",
   "execution_count": null,
   "metadata": {},
   "outputs": [],
   "source": [
    "def to_grayscale(img):\n",
    "    #return np.dot(img[..., :3], [0.2989, 0.5870, 0.1140])\n",
    "    return np.dot(img[..., :3], [0.3333, 0.3333, 0.3333])"
   ]
  },
  {
   "cell_type": "code",
   "execution_count": null,
   "metadata": {},
   "outputs": [],
   "source": [
    "def side_by_side(img_1, img_2, title_1='Оригинал', title_2='Обработанный'):\n",
    "    fig, ax = matplotlib.pyplot.subplots(1, 2)\n",
    "    fig.set_dpi(180)\n",
    "\n",
    "    ax[0].set_title(title_1)\n",
    "    ax[0].imshow(img_1, cmap='gray')\n",
    "\n",
    "    ax[1].set_title(title_2)\n",
    "    ax[1].imshow(img_2, cmap='gray')"
   ]
  },
  {
   "cell_type": "markdown",
   "metadata": {},
   "source": [
    "Считываем изображение из файла."
   ]
  },
  {
   "cell_type": "code",
   "execution_count": null,
   "metadata": {},
   "outputs": [],
   "source": [
    "path = '.\\photo.png'\n",
    "\n",
    "img = matplotlib.image.imread(path)\n",
    "img = to_grayscale(img)\n",
    "\n",
    "fig = matplotlib.pyplot.figure(dpi=180)\n",
    "#ax = fig.add_axes()\n",
    "matplotlib.pyplot.imshow(img, cmap='gray', interpolation='none')"
   ]
  },
  {
   "cell_type": "markdown",
   "metadata": {},
   "source": [
    "Для двумерного изображения функция __wavedec2__ возвращает группу разложенных изображений (__анализ__) в следующем порядке: [A] [Hn, Vn, Dn] ... [H1, V1, D1], где H, V, D горизонтальные, вертикальные и даиагональные особенности сигнала, а n соответствует номеру уровня. Таким образом каждая группа соответствует своему уровню преобразования.\n",
    "\n",
    "В примере ниже горизонтальные компонента сигнала (1) задаётся как константное значение. Как результат видим картинку в которой имеются вертикальные полосы. Сигнал аппроксимаций A не трогаем."
   ]
  },
  {
   "cell_type": "code",
   "execution_count": null,
   "metadata": {},
   "outputs": [],
   "source": [
    "wavelet = 'sym20' # <- симмлет (англ. symmetry wavelet) модифицированная версия вейвлета Добеши с повышенной симметрией\n",
    "level = 3 # <- количество уровней дискретного разложения\n",
    "\n",
    "dwt = pywt.wavedec2(img, wavelet=wavelet, level=level)\n",
    "\n",
    "for d in dwt[1:]:\n",
    "    m, n = d[1].shape\n",
    "    mean = np.sqrt(np.sum(np.square(d[1])) / (m * n))\n",
    "    d[1][:] = 2. * mean"
   ]
  },
  {
   "cell_type": "markdown",
   "metadata": {},
   "source": [
    "Далее следует обратное вейвлет разложение (__синтез__)."
   ]
  },
  {
   "cell_type": "code",
   "execution_count": null,
   "metadata": {},
   "outputs": [],
   "source": [
    "idwt = pywt.waverec2(dwt, wavelet=wavelet)\n",
    "side_by_side(img, idwt)"
   ]
  },
  {
   "cell_type": "markdown",
   "metadata": {},
   "source": [
    "В следующем примере рассмотрено слияние двух изображений."
   ]
  },
  {
   "cell_type": "code",
   "execution_count": null,
   "metadata": {},
   "outputs": [],
   "source": [
    "path_2 = '.\\photo_2.png'\n",
    "img_2 = matplotlib.image.imread(path_2)\n",
    "img_2 = to_grayscale(img_2)\n",
    "\n",
    "side_by_side(img, img_2, 'Изображение 1', 'Изображение 2')"
   ]
  },
  {
   "cell_type": "markdown",
   "metadata": {},
   "source": [
    "Поперечные и продольные компоненты обоих изображений не обязательно должны смешиваться пропорционально. В примере ниже они смешиваются в пропорциях 0.7 к 0.3. В этом также необходимо смешивать коэффициенты аппроксимации."
   ]
  },
  {
   "cell_type": "code",
   "execution_count": null,
   "metadata": {},
   "outputs": [],
   "source": [
    "wvaelet = 'sym20'\n",
    "level = 3\n",
    "\n",
    "dwt_1 = pywt.wavedec2(img, wavelet=wavelet, level=level)\n",
    "dwt_2 = pywt.wavedec2(img_2, wavelet=wavelet, level=level)\n",
    "\n",
    "dwt_1[0] = 0.7 * dwt_1[0] + 0.3 * dwt_2[0]\n",
    "\n",
    "for d_1, d_2 in zip(dwt_1[1:], dwt_2[1:]):\n",
    "    d_1[0][:] = 0.7 * d_1[0] + 0.3 * d_2[0]\n",
    "    d_1[1][:] = 0.7 * d_1[1] + 0.3 * d_2[1]\n",
    "    d_1[2][:] = 0.7 * d_1[2] + 0.3 * d_2[2]"
   ]
  },
  {
   "cell_type": "markdown",
   "metadata": {},
   "source": [
    "Далее производим __синтез__ результирующего изображения."
   ]
  },
  {
   "cell_type": "code",
   "execution_count": null,
   "metadata": {},
   "outputs": [],
   "source": [
    "idwt = pywt.waverec2(dwt_1, wavelet=wavelet)\n",
    "\n",
    "side_by_side(img, idwt, 'Оригинал', 'Объединение')"
   ]
  },
  {
   "cell_type": "markdown",
   "metadata": {},
   "source": [
    "__Итоги__\n",
    "\n",
    "Был рассмотрен мультиуровневый способ вейвлет разложения изображений. Было рассмотрен вариент слияния двух изображений при помощи вейвлет преобразования."
   ]
  },
  {
   "cell_type": "markdown",
   "metadata": {},
   "source": [
    "__Источники__\n",
    "\n",
    "[1] 2D Forward and Inverse Discrete Wavelet Transform // https://pywavelets.readthedocs.io/en/latest/ref/2d-dwt-and-idwt.html\n",
    "\n",
    "[2] Introduction to Wavelets in Image\n",
    "Processing // http://inside.mines.edu/~whoff/courses/EENG510/lectures/"
   ]
  }
 ],
 "metadata": {
  "kernelspec": {
   "display_name": "Python 3",
   "language": "python",
   "name": "python3"
  },
  "language_info": {
   "codemirror_mode": {
    "name": "ipython",
    "version": 3
   },
   "file_extension": ".py",
   "mimetype": "text/x-python",
   "name": "python",
   "nbconvert_exporter": "python",
   "pygments_lexer": "ipython3",
   "version": "3.7.6"
  }
 },
 "nbformat": 4,
 "nbformat_minor": 4
}
