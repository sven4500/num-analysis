{
 "cells": [
  {
   "cell_type": "code",
   "execution_count": null,
   "metadata": {},
   "outputs": [],
   "source": [
    "import numpy as np\n",
    "import matplotlib\n",
    "import scipy\n",
    "from scipy import integrate\n",
    "from scipy import optimize\n",
    "from matplotlib import pyplot"
   ]
  },
  {
   "cell_type": "code",
   "execution_count": null,
   "metadata": {},
   "outputs": [],
   "source": [
    "# Целевая функция системы дифференциальных уравнений.\n",
    "def du_plus_dv(x, t, p=[0., 0., 0., 0.]):\n",
    "    du = p[0] * x[0] - p[1] * x[0] * x[1]\n",
    "    dv = -p[2] * x[1] + p[3] * x[0] * x[1]\n",
    "    return [du, dv]"
   ]
  },
  {
   "cell_type": "code",
   "execution_count": null,
   "metadata": {},
   "outputs": [],
   "source": [
    "# Функция потерь характеризует сходство исходной и восстановленной функции (набора точек).\n",
    "def loss(p_pred, p_true, u, v, t):\n",
    "    w_true = scipy.integrate.odeint(du_plus_dv, [u, v], t, args=(p_true, ))\n",
    "    w_pred = scipy.integrate.odeint(du_plus_dv, [u, v], t, args=(p_pred, ))\n",
    "    eps = np.sqrt(np.sum((w_pred - w_true)**2))\n",
    "    return eps"
   ]
  },
  {
   "cell_type": "code",
   "execution_count": null,
   "metadata": {},
   "outputs": [],
   "source": [
    "u, v = [10., 5.]\n",
    "t = np.linspace(0., 50., 1000)\n",
    "p_true = [1.0, 0.1, 1.5, 0.05]\n",
    "w_true = scipy.integrate.odeint(du_plus_dv, [u, v], t, args=(p_true, ))\n",
    "matplotlib.pyplot.plot(t, w_true)"
   ]
  },
  {
   "cell_type": "code",
   "execution_count": null,
   "metadata": {},
   "outputs": [],
   "source": [
    "p_hint = [1.03, 0.13, 1.48, 0.08]\n",
    "\n",
    "# options={'xtol':1e-8, 'disp':True}\n",
    "p_pred = scipy.optimize.minimize(loss, p_hint, args=(p_true, u, v, t, ))"
   ]
  },
  {
   "cell_type": "code",
   "execution_count": null,
   "metadata": {},
   "outputs": [],
   "source": [
    "print(p_true, p_pred.x)"
   ]
  },
  {
   "cell_type": "code",
   "execution_count": null,
   "metadata": {},
   "outputs": [],
   "source": [
    "w_pred = scipy.integrate.odeint(du_plus_dv, [u, v], t, args=(p_pred.x, ))\n",
    "matplotlib.pyplot.plot(t, w_pred)"
   ]
  },
  {
   "cell_type": "code",
   "execution_count": null,
   "metadata": {},
   "outputs": [],
   "source": []
  }
 ],
 "metadata": {
  "kernelspec": {
   "display_name": "Python 3",
   "language": "python",
   "name": "python3"
  },
  "language_info": {
   "codemirror_mode": {
    "name": "ipython",
    "version": 3
   },
   "file_extension": ".py",
   "mimetype": "text/x-python",
   "name": "python",
   "nbconvert_exporter": "python",
   "pygments_lexer": "ipython3",
   "version": "3.7.6"
  }
 },
 "nbformat": 4,
 "nbformat_minor": 4
}
