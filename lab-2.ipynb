{
 "cells": [
  {
   "cell_type": "code",
   "execution_count": null,
   "metadata": {},
   "outputs": [],
   "source": [
    "import numpy as np # linspace\n",
    "import matplotlib\n",
    "import scipy\n",
    "import random # randrange\n",
    "from matplotlib import pyplot # plot\n",
    "from scipy import integrate"
   ]
  },
  {
   "cell_type": "code",
   "execution_count": null,
   "metadata": {},
   "outputs": [],
   "source": [
    "# Функция принимает пару значений [u, v] => [u', v']. Параметры a, b, c и d здесь задаются как массив p[4].\n",
    "p = np.zeros(shape=4)\n",
    "def du_plus_dv(x, t):\n",
    "    du = p[0] * x[0] - p[1] * x[0] * x[1]\n",
    "    dv = -p[2] * x[1] + p[3] * x[0] * x[1]\n",
    "    return [du, dv]"
   ]
  },
  {
   "cell_type": "code",
   "execution_count": null,
   "metadata": {},
   "outputs": [],
   "source": [
    "# Функция потерь характеризует сходство исходной и восстановленной функции (набора точек).\n",
    "def loss(w_true, w_pred):\n",
    "    eps = np.sqrt(np.sum((w_pred - w_true)**2))\n",
    "    return eps"
   ]
  },
  {
   "cell_type": "code",
   "execution_count": null,
   "metadata": {},
   "outputs": [],
   "source": [
    "def solve(w_true, num_iters=150, step=0.001):\n",
    "    g = np.zeros(shape=3)\n",
    "    eps = np.zeros(shape=3)\n",
    "    eps_global = []\n",
    "\n",
    "    for _ in range(num_iters):\n",
    "        # Проходим по осям в случайном порядке чтобы исключить вырождение.\n",
    "        for j in random.sample([0, 1, 2, 3], 4):\n",
    "\n",
    "            g[0] = p[j]\n",
    "            w_pred = scipy.integrate.odeint(du_plus_dv, [u, v], t)\n",
    "            eps[0] = loss(w_true, w_pred)\n",
    "\n",
    "            g[1] = p[j] = g[0] + step\n",
    "            w_pred = scipy.integrate.odeint(du_plus_dv, [u, v], t)\n",
    "            eps[1] = loss(w_true, w_pred)\n",
    "\n",
    "            g[2] = p[j] = g[0] - step\n",
    "            w_pred = scipy.integrate.odeint(du_plus_dv, [u, v], t)\n",
    "            eps[2] = loss(w_true, w_pred)\n",
    "\n",
    "            p[j] = g[np.argmin(eps)]\n",
    "            eps_global.append(np.min(eps))\n",
    "            pass\n",
    "        pass\n",
    "    return eps_global"
   ]
  },
  {
   "cell_type": "code",
   "execution_count": null,
   "metadata": {},
   "outputs": [],
   "source": [
    "u = 10.\n",
    "v = 5.\n",
    "\n",
    "# Набор параметров функции.\n",
    "a_true = p[0] = 1.1\n",
    "b_true = p[1] = 0.1\n",
    "c_true = p[2] = 0.4\n",
    "d_true = p[3] = 0.1\n",
    "\n",
    "t = np.linspace(0., 50., 1000)\n",
    "\n",
    "w_true = scipy.integrate.odeint(du_plus_dv, [u, v], t)\n",
    "matplotlib.pyplot.plot(t, w_true)"
   ]
  },
  {
   "cell_type": "markdown",
   "metadata": {},
   "source": [
    "Находим исходные параметры в окрестности заданной точки."
   ]
  },
  {
   "cell_type": "code",
   "execution_count": null,
   "metadata": {},
   "outputs": [],
   "source": [
    "# Задаём точку в окрестности который ищем решение.\n",
    "p = [1.0, 0.2, 0.5, 0.0]\n",
    "#p = np.abs(np.random.normal(0., 0.1, size=4))\n",
    "eps = solve(w_true)\n",
    "\n",
    "# В начале имеем большой выброс поэтому пропускаем несколько начальных точек.\n",
    "matplotlib.pyplot.plot(eps[4:])\n",
    "#mean = np.mean(eps_global)\n",
    "#sigma = np.std(eps_global)\n",
    "#matplotlib.pyplot.ylim(top=mean+3*sigma, bottom=mean-3*sigma)"
   ]
  },
  {
   "cell_type": "code",
   "execution_count": null,
   "metadata": {},
   "outputs": [],
   "source": [
    "w_pred = scipy.integrate.odeint(du_plus_dv, [u, v], t)\n",
    "matplotlib.pyplot.plot(t, w_true, 'r')\n",
    "matplotlib.pyplot.plot(t, w_pred, 'b')"
   ]
  },
  {
   "cell_type": "code",
   "execution_count": null,
   "metadata": {},
   "outputs": [],
   "source": [
    "a_pred = p[0]\n",
    "b_pred = p[1]\n",
    "c_pred = p[2]\n",
    "d_pred = p[3]\n",
    "\n",
    "print('a_true', a_true, 'a_pred', a_pred, 'Δa', np.abs(a_true - a_pred))\n",
    "print('b_true', b_true, 'b_pred', b_pred, 'Δb', np.abs(b_true - b_pred))\n",
    "print('c_true', c_true, 'c_pred', c_pred, 'Δc', np.abs(c_true - c_pred))\n",
    "print('d_true', d_true, 'd_pred', d_pred, 'Δd', np.abs(d_true - d_pred))"
   ]
  },
  {
   "cell_type": "markdown",
   "metadata": {},
   "source": [
    "Нахождение параметров уравнения от данных с шумом."
   ]
  },
  {
   "cell_type": "code",
   "execution_count": null,
   "metadata": {},
   "outputs": [],
   "source": [
    "# Накладываем шум на исходный набор данных.\n",
    "w_noise = w_true + np.random.normal(0., 0.4, size=(len(w_true), 2))\n",
    "matplotlib.pyplot.plot(w_noise)"
   ]
  },
  {
   "cell_type": "code",
   "execution_count": null,
   "metadata": {},
   "outputs": [],
   "source": [
    "p = [0.8, 0.2, 0.5, 0.0]\n",
    "eps = solve(w_noise)\n",
    "matplotlib.pyplot.plot(eps[4:])"
   ]
  },
  {
   "cell_type": "code",
   "execution_count": null,
   "metadata": {},
   "outputs": [],
   "source": [
    "w_pred = scipy.integrate.odeint(du_plus_dv, [u, v], t)\n",
    "matplotlib.pyplot.plot(t, w_noise, 'r')\n",
    "matplotlib.pyplot.plot(t, w_pred, 'b')"
   ]
  },
  {
   "cell_type": "code",
   "execution_count": null,
   "metadata": {},
   "outputs": [],
   "source": [
    "a_pred = p[0]\n",
    "b_pred = p[1]\n",
    "c_pred = p[2]\n",
    "d_pred = p[3]\n",
    "\n",
    "print('a_true', a_true, 'a_pred', a_pred, 'Δa', np.abs(a_true - a_pred))\n",
    "print('b_true', b_true, 'b_pred', b_pred, 'Δb', np.abs(b_true - b_pred))\n",
    "print('c_true', c_true, 'c_pred', c_pred, 'Δc', np.abs(c_true - c_pred))\n",
    "print('d_true', d_true, 'd_pred', d_pred, 'Δd', np.abs(d_true - d_pred))"
   ]
  },
  {
   "cell_type": "code",
   "execution_count": null,
   "metadata": {},
   "outputs": [],
   "source": []
  }
 ],
 "metadata": {
  "kernelspec": {
   "display_name": "Python 3",
   "language": "python",
   "name": "python3"
  },
  "language_info": {
   "codemirror_mode": {
    "name": "ipython",
    "version": 3
   },
   "file_extension": ".py",
   "mimetype": "text/x-python",
   "name": "python",
   "nbconvert_exporter": "python",
   "pygments_lexer": "ipython3",
   "version": "3.7.6"
  }
 },
 "nbformat": 4,
 "nbformat_minor": 4
}
