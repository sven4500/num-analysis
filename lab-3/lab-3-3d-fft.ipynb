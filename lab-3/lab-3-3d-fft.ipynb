{
 "cells": [
  {
   "cell_type": "code",
   "execution_count": null,
   "metadata": {},
   "outputs": [],
   "source": [
    "import numpy as np\n",
    "import matplotlib\n",
    "from matplotlib import pyplot\n",
    "%run lab-3-3d-model.ipynb\n",
    "%run lab-3-spectrogram.ipynb"
   ]
  },
  {
   "cell_type": "code",
   "execution_count": null,
   "metadata": {},
   "outputs": [],
   "source": [
    "sp = [0.5, 1.5, 1.0]\n",
    "A = 1.\n",
    "n = 2000\n",
    "t = np.linspace(50., 200., n)\n",
    "\n",
    "w = xyz(t, sp, A)\n",
    "#w = scipy.integrate.odeint(dx_dy_dz, sp, t, args=(A, ))"
   ]
  },
  {
   "cell_type": "code",
   "execution_count": null,
   "metadata": {},
   "outputs": [],
   "source": [
    "matplotlib.pyplot.plot(t, w)"
   ]
  },
  {
   "cell_type": "code",
   "execution_count": null,
   "metadata": {},
   "outputs": [],
   "source": [
    "matplotlib.pyplot.plot(w[:,0], w[:,1])\n",
    "matplotlib.pyplot.plot(w[:,0], w[:,2])\n",
    "matplotlib.pyplot.plot(w[:,1], w[:,2])"
   ]
  },
  {
   "cell_type": "markdown",
   "metadata": {},
   "source": [
    "Переходим в частотную область."
   ]
  },
  {
   "cell_type": "code",
   "execution_count": null,
   "metadata": {},
   "outputs": [],
   "source": [
    "fft_x = np.fft.fft(w[:,0])\n",
    "fft_y = np.fft.fft(w[:,1])\n",
    "fft_z = np.fft.fft(w[:,2])"
   ]
  },
  {
   "cell_type": "code",
   "execution_count": null,
   "metadata": {},
   "outputs": [],
   "source": [
    "matplotlib.pyplot.xlim(right=n/2)\n",
    "matplotlib.pyplot.plot(np.abs(fft_x))\n",
    "matplotlib.pyplot.plot(np.abs(fft_y))\n",
    "matplotlib.pyplot.plot(np.abs(fft_z))"
   ]
  },
  {
   "cell_type": "markdown",
   "metadata": {},
   "source": [
    "Строим 2-d плоскость где по одной оси отложен коэффициент A по другой оси БПФ преобразование. Таким образом видим эволюцию частот от параметра A."
   ]
  },
  {
   "cell_type": "code",
   "execution_count": null,
   "metadata": {},
   "outputs": [],
   "source": [
    "sp = [0.5, 1.5, 1.0]\n",
    "n = 2000\n",
    "t = np.linspace(50., 200., n)\n",
    "\n",
    "image = []\n",
    "for a in np.linspace(0., 10., 100):\n",
    "    w = xyz(t, sp, a)\n",
    "    direct = np.fft.fft(w[:,0])\n",
    "    image.append(np.abs(direct)[0:int(n/4)])"
   ]
  },
  {
   "cell_type": "code",
   "execution_count": null,
   "metadata": {},
   "outputs": [],
   "source": [
    "#image_saturated = np.sqrt(image)\n",
    "image_saturated = np.log10(image)\n",
    "matplotlib.pyplot.matshow(image_saturated)"
   ]
  },
  {
   "cell_type": "markdown",
   "metadata": {},
   "source": [
    "Спектрограмма 3-d модели."
   ]
  },
  {
   "cell_type": "code",
   "execution_count": null,
   "metadata": {},
   "outputs": [],
   "source": [
    "s = spectrogram(w[:,1], 512, 500.)\n",
    "matplotlib.pyplot.matshow(np.abs(np.transpose(s)))"
   ]
  },
  {
   "cell_type": "code",
   "execution_count": null,
   "metadata": {},
   "outputs": [],
   "source": []
  }
 ],
 "metadata": {
  "kernelspec": {
   "display_name": "Python 3",
   "language": "python",
   "name": "python3"
  },
  "language_info": {
   "codemirror_mode": {
    "name": "ipython",
    "version": 3
   },
   "file_extension": ".py",
   "mimetype": "text/x-python",
   "name": "python",
   "nbconvert_exporter": "python",
   "pygments_lexer": "ipython3",
   "version": "3.7.6"
  }
 },
 "nbformat": 4,
 "nbformat_minor": 4
}
