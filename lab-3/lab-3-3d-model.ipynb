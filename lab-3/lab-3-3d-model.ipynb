{
 "cells": [
  {
   "cell_type": "code",
   "execution_count": null,
   "metadata": {},
   "outputs": [],
   "source": [
    "import numpy as np\n",
    "import matplotlib\n",
    "import scipy\n",
    "from scipy import signal\n",
    "from scipy import integrate\n",
    "from scipy import optimize\n",
    "from matplotlib import pyplot"
   ]
  },
  {
   "cell_type": "code",
   "execution_count": null,
   "metadata": {},
   "outputs": [],
   "source": [
    "# Система ДУ. sp - начальная точка (starting point).\n",
    "def dx_dy_dz(sp, t, A):\n",
    "    dx = 1 + A * sp[1] * sp[2]\n",
    "    dy = sp[0] - sp[1]\n",
    "    dz = 1 - sp[0] * sp[1]\n",
    "    return [dx, dy, dz]"
   ]
  },
  {
   "cell_type": "code",
   "execution_count": null,
   "metadata": {},
   "outputs": [],
   "source": [
    "sp = [0.5, 1.5, 1.0]\n",
    "A = 1.\n",
    "n = 2000\n",
    "t = np.linspace(50., 200., n)\n",
    "w = scipy.integrate.odeint(dx_dy_dz, sp, t, args=(A, ))"
   ]
  },
  {
   "cell_type": "code",
   "execution_count": null,
   "metadata": {},
   "outputs": [],
   "source": [
    "matplotlib.pyplot.plot(t, w)"
   ]
  },
  {
   "cell_type": "code",
   "execution_count": null,
   "metadata": {},
   "outputs": [],
   "source": [
    "matplotlib.pyplot.plot(w[:,0], w[:,1])\n",
    "matplotlib.pyplot.plot(w[:,0], w[:,2])\n",
    "matplotlib.pyplot.plot(w[:,1], w[:,2])"
   ]
  },
  {
   "cell_type": "code",
   "execution_count": null,
   "metadata": {},
   "outputs": [],
   "source": [
    "fft_x = np.fft.fft(w[:,0])\n",
    "fft_y = np.fft.fft(w[:,1])\n",
    "fft_z = np.fft.fft(w[:,2])"
   ]
  },
  {
   "cell_type": "code",
   "execution_count": null,
   "metadata": {},
   "outputs": [],
   "source": [
    "matplotlib.pyplot.xlim(right=n/2)\n",
    "matplotlib.pyplot.plot(np.abs(fft_x))\n",
    "matplotlib.pyplot.plot(np.abs(fft_y))\n",
    "matplotlib.pyplot.plot(np.abs(fft_z))"
   ]
  },
  {
   "cell_type": "markdown",
   "metadata": {},
   "source": [
    "Строим 2-d плоскость где по одной оси отложен коэффициент A по другой оси БПФ преобразование. Таким образом видим эволюцию частот от параметра A."
   ]
  },
  {
   "cell_type": "code",
   "execution_count": null,
   "metadata": {},
   "outputs": [],
   "source": [
    "sp = [0.5, 1.5, 1.0]\n",
    "n = 2000\n",
    "t = np.linspace(50., 200., n)\n",
    "\n",
    "image = []\n",
    "for a in np.linspace(0., 10., 100):\n",
    "    w = scipy.integrate.odeint(dx_dy_dz, sp, t, args=(a, ))\n",
    "    direct = np.fft.fft(w[:,0])\n",
    "    image.append(np.abs(direct)[0:int(n/4)])"
   ]
  },
  {
   "cell_type": "code",
   "execution_count": null,
   "metadata": {},
   "outputs": [],
   "source": [
    "#image_saturated = np.sqrt(image)\n",
    "image_saturated = np.log10(image)\n",
    "matplotlib.pyplot.matshow(image_saturated)"
   ]
  },
  {
   "cell_type": "markdown",
   "metadata": {},
   "source": [
    "Строим спектрограмму сигнала."
   ]
  },
  {
   "cell_type": "code",
   "execution_count": null,
   "metadata": {},
   "outputs": [],
   "source": [
    "# Функция возвращает 2-d массив. s (signal) входной сигнал. w (window) размер окна. n (number) размер ПБФ преобразования.\n",
    "# https://stackoverflow.com/questions/38191855/zero-pad-numpy-array/38192105\n",
    "def spectrogram(s, n, beta):\n",
    "    n_2 = int(n / 2)\n",
    "    \n",
    "    window = scipy.signal.windows.kaiser(n, beta)\n",
    "    \n",
    "    signal = np.zeros(len(s) + n)\n",
    "    signal[n_2:n_2+len(s)] = s\n",
    "    \n",
    "    result = []\n",
    "    \n",
    "    for i in range(len(s)):\n",
    "        local = signal[i:i+n] * window\n",
    "        fft = np.fft.fft(local, n=n)\n",
    "        result.append(fft[:n_2])\n",
    "        \n",
    "    return result"
   ]
  },
  {
   "cell_type": "markdown",
   "metadata": {},
   "source": [
    "Проверка"
   ]
  },
  {
   "cell_type": "code",
   "execution_count": null,
   "metadata": {},
   "outputs": [],
   "source": [
    "# Генерируем ЛЧМ сигнал.\n",
    "t = np.linspace(0., 5., 1000)\n",
    "y = np.cos(10. * t**2)\n",
    "matplotlib.pyplot.plot(t, y)"
   ]
  },
  {
   "cell_type": "code",
   "execution_count": null,
   "metadata": {},
   "outputs": [],
   "source": [
    "s = spectrogram(y, 512, 50.)\n",
    "matplotlib.pyplot.matshow(np.abs(np.transpose(s)))"
   ]
  },
  {
   "cell_type": "markdown",
   "metadata": {},
   "source": [
    "Спектрограмма 3-d модели."
   ]
  },
  {
   "cell_type": "code",
   "execution_count": null,
   "metadata": {},
   "outputs": [],
   "source": [
    "s = spectrogram(w[:,1], 512, 500.)\n",
    "matplotlib.pyplot.matshow(np.abs(np.transpose(s)))"
   ]
  },
  {
   "cell_type": "code",
   "execution_count": null,
   "metadata": {},
   "outputs": [],
   "source": []
  }
 ],
 "metadata": {
  "kernelspec": {
   "display_name": "Python 3",
   "language": "python",
   "name": "python3"
  },
  "language_info": {
   "codemirror_mode": {
    "name": "ipython",
    "version": 3
   },
   "file_extension": ".py",
   "mimetype": "text/x-python",
   "name": "python",
   "nbconvert_exporter": "python",
   "pygments_lexer": "ipython3",
   "version": "3.7.6"
  }
 },
 "nbformat": 4,
 "nbformat_minor": 4
}
