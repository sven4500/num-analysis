{
 "cells": [
  {
   "cell_type": "code",
   "execution_count": null,
   "metadata": {},
   "outputs": [],
   "source": [
    "import numpy as np\n",
    "import matplotlib\n",
    "import scipy\n",
    "from scipy import integrate\n",
    "from scipy import optimize\n",
    "from matplotlib import pyplot"
   ]
  },
  {
   "cell_type": "code",
   "execution_count": null,
   "metadata": {},
   "outputs": [],
   "source": [
    "# Система ДУ. sp - начальная точка (starting point).\n",
    "def dx_dy_dz(sp, t, A):\n",
    "    dx = 1 + A * sp[1] * sp[2]\n",
    "    dy = sp[0] - sp[1]\n",
    "    dz = 1 - sp[0] * sp[1]\n",
    "    return [dx, dy, dz]"
   ]
  },
  {
   "cell_type": "code",
   "execution_count": null,
   "metadata": {},
   "outputs": [],
   "source": [
    "sp = [0.7, -0.3, 0.5]\n",
    "A = 50.\n",
    "n = 200\n",
    "t = np.linspace(-1., 2., n)\n",
    "w = scipy.integrate.odeint(dx_dy_dz, sp, t, args=(A, ))"
   ]
  },
  {
   "cell_type": "code",
   "execution_count": null,
   "metadata": {},
   "outputs": [],
   "source": [
    "matplotlib.pyplot.plot(t, w)"
   ]
  },
  {
   "cell_type": "code",
   "execution_count": null,
   "metadata": {},
   "outputs": [],
   "source": [
    "matplotlib.pyplot.plot(w[:,0], w[:,1])\n",
    "matplotlib.pyplot.plot(w[:,0], w[:,2])\n",
    "matplotlib.pyplot.plot(w[:,1], w[:,2])"
   ]
  },
  {
   "cell_type": "code",
   "execution_count": null,
   "metadata": {},
   "outputs": [],
   "source": [
    "fft_x = np.fft.fft(w[:,0])\n",
    "fft_y = np.fft.fft(w[:,1])\n",
    "fft_z = np.fft.fft(w[:,2])"
   ]
  },
  {
   "cell_type": "code",
   "execution_count": null,
   "metadata": {},
   "outputs": [],
   "source": [
    "matplotlib.pyplot.xlim(right=n/2)\n",
    "matplotlib.pyplot.plot(np.abs(fft_x))\n",
    "matplotlib.pyplot.plot(np.abs(fft_y))\n",
    "matplotlib.pyplot.plot(np.abs(fft_z))"
   ]
  },
  {
   "cell_type": "code",
   "execution_count": null,
   "metadata": {},
   "outputs": [],
   "source": []
  }
 ],
 "metadata": {
  "kernelspec": {
   "display_name": "Python 3",
   "language": "python",
   "name": "python3"
  },
  "language_info": {
   "codemirror_mode": {
    "name": "ipython",
    "version": 3
   },
   "file_extension": ".py",
   "mimetype": "text/x-python",
   "name": "python",
   "nbconvert_exporter": "python",
   "pygments_lexer": "ipython3",
   "version": "3.7.6"
  }
 },
 "nbformat": 4,
 "nbformat_minor": 4
}
