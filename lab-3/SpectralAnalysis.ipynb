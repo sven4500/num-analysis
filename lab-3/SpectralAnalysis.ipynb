{
 "cells": [
  {
   "cell_type": "markdown",
   "metadata": {},
   "source": [
    "# Спектральный анализ"
   ]
  },
  {
   "cell_type": "code",
   "execution_count": null,
   "metadata": {},
   "outputs": [],
   "source": [
    "%matplotlib inline\n",
    "\n",
    "import numpy as np\n",
    "import scipy.linalg as la\n",
    "import scipy.interpolate as interp\n",
    "import scipy.integrate as integrate\n",
    "import scipy.fftpack as fft\n",
    "import scipy.signal as signal\n",
    "import matplotlib as mpl\n",
    "import matplotlib.pyplot as plt\n",
    "\n",
    "default_dpi = mpl.rcParamsDefault['figure.dpi']\n",
    "factor = 1.5\n",
    "mpl.rcParams['figure.dpi'] = default_dpi * factor"
   ]
  },
  {
   "cell_type": "markdown",
   "metadata": {},
   "source": [
    "## Исходные данные"
   ]
  },
  {
   "cell_type": "code",
   "execution_count": null,
   "metadata": {},
   "outputs": [],
   "source": [
    "x = np.linspace(0, np.pi * 2, 101)\n",
    "y = 0. + 2.*np.sin(x * 2) + np.cos(x * 5 ) #+ np.sin(x * 25.5)\n",
    "\n",
    "#x = np.linspace(-10, 10, 101)\n",
    "#y = 5*np.exp(-10*x**2) * 0.\n",
    "\n",
    "#y[x>-1.]=1\n",
    "#y[x>1.]=0\n",
    "\n",
    "print (x/(np.pi * 2))\n",
    "\n",
    "plt.plot(x, y)"
   ]
  },
  {
   "cell_type": "markdown",
   "metadata": {},
   "source": [
    "## Прямое и обратное ДПФ"
   ]
  },
  {
   "cell_type": "code",
   "execution_count": null,
   "metadata": {},
   "outputs": [],
   "source": [
    "L = max(x) - min(x)\n",
    "a = np.zeros ((len(x)))\n",
    "b = np.zeros ((len(x)))\n",
    "A = np.zeros ((len(x)))\n",
    "\n",
    "CosTerm = np.zeros ((len(x)))\n",
    "SinTerm = np.zeros ((len(x)))\n",
    "\n",
    "n = len(x)\n",
    "\n",
    "dx = L / (n-1)\n",
    "\n",
    "# --------------------------------------------------------------------------------------\n",
    "#                                                                 Прямое преобразование\n",
    "# --------------------------------------------------------------------------------------\n",
    "\n",
    "a[0] = 1./L * np.sum (y [:(n-1)]) * dx\n",
    "b[0] = 0.\n",
    "\n",
    "print (a[0])\n",
    "\n",
    "for k in range (1, n-1):\n",
    "    \n",
    "    CosTerm = np.cos(2.* np.pi * k * x / L) * dx\n",
    "    SinTerm =  np.sin(2.* np.pi * k * x / L) * dx\n",
    "    \n",
    "    a[k]  = 2./L * np.sum (y[:(n-1)]*CosTerm [:(n-1)])\n",
    "    b[k]  = 2./L * np.sum (y[:(n-1)]*SinTerm [:(n-1)])\n",
    "           \n",
    "    A = (a**2+b**2)**(0.5)\n",
    "    \n",
    "    #print (a[k], b[k])\n",
    "    \n",
    "#print (A)\n",
    "#print(A[A>1.E-6])\n",
    "\n",
    "plt.plot (A[0:n], 'o')\n",
    "plt.figure ()\n",
    "plt.grid ()\n",
    "plt.plot (A[0:10], 'o')\n",
    "\n",
    "# --------------------------------------------------------------------------------------\n",
    "#                                                                Обратное преобразование\n",
    "# --------------------------------------------------------------------------------------\n",
    "\n",
    "m = int(n/2)\n",
    "\n",
    "yf = np.zeros (n)\n",
    "\n",
    "for k in range (0, m):\n",
    "    \n",
    "    yf += a[k]*np.cos(2.* np.pi * k * x / L) + b[k]*np.sin(2.* np.pi * k * x / L)\n",
    "    \n",
    "plt.figure ()\n",
    "plt.plot (x,y, 'v')\n",
    "plt.plot (x,yf)"
   ]
  },
  {
   "cell_type": "markdown",
   "metadata": {},
   "source": [
    "## Быстрое ДПФ (FFT)"
   ]
  },
  {
   "cell_type": "code",
   "execution_count": null,
   "metadata": {},
   "outputs": [],
   "source": [
    "x = np.linspace(0, np.pi * 2, 100, endpoint=False)\n",
    "y = 0. + 2.*np.sin(x * 2) + np.cos(x * 5 ) #+ np.sin(x * 25.5)\n",
    "\n",
    "print (x/(np.pi * 2))\n",
    "\n",
    "plt.plot(x, y)"
   ]
  },
  {
   "cell_type": "code",
   "execution_count": null,
   "metadata": {},
   "outputs": [],
   "source": [
    "# --------------------------------------------------------------------------------------\n",
    "#                                                                             Прямое FFT\n",
    "# --------------------------------------------------------------------------------------\n",
    "\n",
    "y_fft = fft.fft(y)\n",
    "\n",
    "plt.plot(np.abs(y_fft))"
   ]
  },
  {
   "cell_type": "code",
   "execution_count": null,
   "metadata": {},
   "outputs": [],
   "source": [
    "# --------------------------------------------------------------------------------------\n",
    "#                                                                           Обратное FFT\n",
    "# --------------------------------------------------------------------------------------\n",
    "from scipy.fftpack import ifft\n",
    "yf = ifft(y_fft )\n",
    "plt.plot (x,y,'v')\n",
    "plt.plot (x,yf)"
   ]
  },
  {
   "cell_type": "markdown",
   "metadata": {},
   "source": [
    "## Зашумленные данные"
   ]
  },
  {
   "cell_type": "code",
   "execution_count": null,
   "metadata": {},
   "outputs": [],
   "source": [
    "x = np.linspace(0, np.pi * 4, 101)\n",
    "y = 0. + 2.*np.sin(x * 2) + np.cos(x * 5 ) #+ np.sin(x * 25.5)\n",
    "\n",
    "#x = np.linspace(-10, 10, 101)\n",
    "#y = 5*np.exp(-10*x**2) * 0.\n",
    "\n",
    "#y[x>-1.]=1\n",
    "#y[x>1.]=0\n",
    "\n",
    "print (x/(np.pi * 2))\n",
    "\n",
    "yd = np.zeros(len(x))\n",
    "\n",
    "plt.plot(x, y)\n",
    "Delta = 1.0 * np.random.randn(len(x))\n",
    "yd = y + Delta\n",
    "y_av = np.sum(y)/len(x)\n",
    "\n",
    "plt.figure ()\n",
    "\n",
    "plt.plot (x, yd, 'o')"
   ]
  },
  {
   "cell_type": "code",
   "execution_count": null,
   "metadata": {},
   "outputs": [],
   "source": [
    "L = max(x) - min(x)\n",
    "a = np.zeros ((len(x)))\n",
    "b = np.zeros ((len(x)))\n",
    "A = np.zeros ((len(x)))\n",
    "\n",
    "CosTerm = np.zeros ((len(x)))\n",
    "SinTerm = np.zeros ((len(x)))\n",
    "\n",
    "n = len(x)\n",
    "\n",
    "dx = L / (n-1)\n",
    "\n",
    "# --------------------------------------------------------------------------------------\n",
    "#                                                                 Прямое преобразование\n",
    "# --------------------------------------------------------------------------------------\n",
    "\n",
    "a[0] = 1./L * np.sum (yd [:(n-1)]) * dx\n",
    "b[0] = 0.\n",
    "\n",
    "print (a[0])\n",
    "\n",
    "for k in range (1, n-1):\n",
    "    \n",
    "    CosTerm = np.cos(2.* np.pi * k * x / L) * dx\n",
    "    SinTerm =  np.sin(2.* np.pi * k * x / L) * dx\n",
    "    \n",
    "    a[k]  = 2./L * np.sum (yd[:(n-1)]*CosTerm [:(n-1)])\n",
    "    b[k]  = 2./L * np.sum (yd[:(n-1)]*SinTerm [:(n-1)])\n",
    "           \n",
    "    A = (a**2+b**2)**(0.5)\n",
    "    \n",
    "    #print (a[k], b[k])\n",
    "    \n",
    "#print (A)\n",
    "#print(A[A>1.E-6])\n",
    "\n",
    "plt.grid ()\n",
    "plt.plot (A[0:int(n/2)], 'o')\n",
    "\n",
    "# --------------------------------------------------------------------------------------\n",
    "#                                                                Обратное преобразование\n",
    "# --------------------------------------------------------------------------------------\n",
    "\n",
    "m = int(n/2)\n",
    "\n",
    "yf = np.zeros (n)\n",
    "\n",
    "for k in range (0, int(m/4)):\n",
    "    \n",
    "    yf += a[k]*np.cos(2.* np.pi * k * x / L) + b[k]*np.sin(2.* np.pi * k * x / L)\n",
    "    \n",
    "plt.figure ()\n",
    "plt.plot (x, y,)\n",
    "plt.plot (x, yd, 'v')\n",
    "plt.plot (x,yf, '--')"
   ]
  },
  {
   "cell_type": "code",
   "execution_count": null,
   "metadata": {},
   "outputs": [],
   "source": []
  },
  {
   "cell_type": "code",
   "execution_count": null,
   "metadata": {},
   "outputs": [],
   "source": []
  }
 ],
 "metadata": {
  "kernelspec": {
   "display_name": "Python 3",
   "language": "python",
   "name": "python3"
  },
  "language_info": {
   "codemirror_mode": {
    "name": "ipython",
    "version": 3
   },
   "file_extension": ".py",
   "mimetype": "text/x-python",
   "name": "python",
   "nbconvert_exporter": "python",
   "pygments_lexer": "ipython3",
   "version": "3.7.6"
  }
 },
 "nbformat": 4,
 "nbformat_minor": 2
}
