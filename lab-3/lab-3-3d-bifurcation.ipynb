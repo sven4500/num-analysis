{
 "cells": [
  {
   "cell_type": "code",
   "execution_count": null,
   "metadata": {},
   "outputs": [],
   "source": [
    "import numpy as np\n",
    "import matplotlib\n",
    "from matplotlib import pyplot\n",
    "%run lab-3-3d-model.ipynb"
   ]
  },
  {
   "cell_type": "code",
   "execution_count": null,
   "metadata": {},
   "outputs": [],
   "source": [
    "N = 2000\n",
    "n = 100\n",
    "\n",
    "t = np.linspace(50., 200., N)\n",
    "A = np.linspace(0.05, 10., n)\n",
    "b = np.zeros(shape=(n, 2, 3))\n",
    "sp = [0.5, 1.5, 1.0]\n",
    "\n",
    "for i in range(n):\n",
    "    w = xyz(t, sp, A[i])\n",
    "    b[i] = [np.min(w, axis=0), np.max(w, axis=0)]"
   ]
  },
  {
   "cell_type": "code",
   "execution_count": null,
   "metadata": {},
   "outputs": [],
   "source": [
    "matplotlib.pyplot.plot(A, b[:, 0, 0], '.')\n",
    "matplotlib.pyplot.plot(A, b[:, 1, 0], '.')"
   ]
  },
  {
   "cell_type": "code",
   "execution_count": null,
   "metadata": {},
   "outputs": [],
   "source": [
    "matplotlib.pyplot.plot(A, b[:, 0, 1], '.')\n",
    "matplotlib.pyplot.plot(A, b[:, 1, 1], '.')"
   ]
  },
  {
   "cell_type": "code",
   "execution_count": null,
   "metadata": {},
   "outputs": [],
   "source": [
    "matplotlib.pyplot.plot(A, b[:, 0, 2], '.')\n",
    "matplotlib.pyplot.plot(A, b[:, 1, 2], '.')"
   ]
  },
  {
   "cell_type": "code",
   "execution_count": null,
   "metadata": {},
   "outputs": [],
   "source": []
  }
 ],
 "metadata": {
  "kernelspec": {
   "display_name": "Python 3",
   "language": "python",
   "name": "python3"
  },
  "language_info": {
   "codemirror_mode": {
    "name": "ipython",
    "version": 3
   },
   "file_extension": ".py",
   "mimetype": "text/x-python",
   "name": "python",
   "nbconvert_exporter": "python",
   "pygments_lexer": "ipython3",
   "version": "3.7.6"
  }
 },
 "nbformat": 4,
 "nbformat_minor": 4
}
