{
 "cells": [
  {
   "cell_type": "code",
   "execution_count": null,
   "metadata": {},
   "outputs": [],
   "source": [
    "import numpy as np\n",
    "import matplotlib\n",
    "import scipy\n",
    "from scipy import signal\n",
    "from matplotlib import pyplot\n",
    "%run lab-3-3d-model.ipynb"
   ]
  },
  {
   "cell_type": "code",
   "execution_count": null,
   "metadata": {},
   "outputs": [],
   "source": [
    "N = 2000\n",
    "n = 100\n",
    "step = 0.01\n",
    "\n",
    "sp = [0.5, 1.5, 1.0]\n",
    "t = np.linspace(50., 200., N)\n",
    "#A = np.linspace(0.05, 10., n)\n",
    "A = np.arange(0.1, 20., step)\n",
    "n = len(A)\n",
    "\n",
    "b = np.empty(shape=(3,n), dtype=np.ndarray)\n",
    "\n",
    "for i in range(n):\n",
    "    w = xyz(t, sp, A[i])\n",
    "\n",
    "    # Имеем две размерности. Одна номер точки, воторая номер уравнения.\n",
    "    minima = scipy.signal.argrelextrema(w, np.less, axis=0)\n",
    "    maxima = scipy.signal.argrelextrema(w, np.greater, axis=0)\n",
    "\n",
    "    # Транспонируем и теперь имеем пары индексов (точка, уравнение).\n",
    "    extrema = np.concatenate((minima, maxima), axis=1).T\n",
    "\n",
    "    b[0,i] = []\n",
    "    b[1,i] = []\n",
    "    b[2,i] = []\n",
    "    \n",
    "    for e in extrema:\n",
    "        b[e[1],i].append(w[e[0],e[1]])"
   ]
  },
  {
   "cell_type": "code",
   "execution_count": null,
   "metadata": {},
   "outputs": [],
   "source": [
    "def draw(img, color='black', alpha=1.):\n",
    "    for _a, _b in zip(A, img):\n",
    "        matplotlib.pyplot.plot(_a * np.ones(len(_b)), _b, ',', color=color, alpha=alpha)"
   ]
  },
  {
   "cell_type": "code",
   "execution_count": null,
   "metadata": {},
   "outputs": [],
   "source": [
    "draw(b[0], alpha=0.1)"
   ]
  },
  {
   "cell_type": "code",
   "execution_count": null,
   "metadata": {},
   "outputs": [],
   "source": [
    "draw(b[1], alpha=0.1)"
   ]
  },
  {
   "cell_type": "code",
   "execution_count": null,
   "metadata": {},
   "outputs": [],
   "source": [
    "draw(b[2], alpha=0.1)"
   ]
  },
  {
   "cell_type": "code",
   "execution_count": null,
   "metadata": {},
   "outputs": [],
   "source": []
  }
 ],
 "metadata": {
  "kernelspec": {
   "display_name": "Python 3",
   "language": "python",
   "name": "python3"
  },
  "language_info": {
   "codemirror_mode": {
    "name": "ipython",
    "version": 3
   },
   "file_extension": ".py",
   "mimetype": "text/x-python",
   "name": "python",
   "nbconvert_exporter": "python",
   "pygments_lexer": "ipython3",
   "version": "3.7.6"
  }
 },
 "nbformat": 4,
 "nbformat_minor": 4
}
