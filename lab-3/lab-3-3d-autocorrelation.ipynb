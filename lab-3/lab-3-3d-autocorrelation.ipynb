{
 "cells": [
  {
   "cell_type": "code",
   "execution_count": null,
   "metadata": {},
   "outputs": [],
   "source": [
    "import numpy as np\n",
    "import matplotlib\n",
    "from matplotlib import pyplot\n",
    "%run lab-3-3d-model.ipynb"
   ]
  },
  {
   "cell_type": "code",
   "execution_count": null,
   "metadata": {},
   "outputs": [],
   "source": [
    "t = np.linspace(50., 200., 2000)\n",
    "sp = [0.5, 1.5, 1.0]\n",
    "A = 6.0\n",
    "\n",
    "w = xyz(t, sp, A)\n",
    "\n",
    "x = w[:,0]\n",
    "y = w[:,1]\n",
    "z = w[:,2]"
   ]
  },
  {
   "cell_type": "code",
   "execution_count": null,
   "metadata": {},
   "outputs": [],
   "source": [
    "matplotlib.pyplot.plot(x)\n",
    "matplotlib.pyplot.plot(y)\n",
    "matplotlib.pyplot.plot(z)"
   ]
  },
  {
   "cell_type": "markdown",
   "metadata": {},
   "source": [
    "Автокорреляция показывает \"схожесть\" сигнала с собой смещённого по времени. Пример автокорреляции использования: https://musicinformationretrieval.com/autocorrelation.html"
   ]
  },
  {
   "cell_type": "code",
   "execution_count": null,
   "metadata": {},
   "outputs": [],
   "source": [
    "xc = np.correlate(x, x, mode='full')[len(x)-1:]\n",
    "yc = np.correlate(y, y, mode='full')[len(y)-1:]\n",
    "zc = np.correlate(z, z, mode='full')[len(z)-1:]"
   ]
  },
  {
   "cell_type": "code",
   "execution_count": null,
   "metadata": {},
   "outputs": [],
   "source": [
    "matplotlib.pyplot.plot(xc)\n",
    "matplotlib.pyplot.plot(yc)\n",
    "matplotlib.pyplot.plot(zc)"
   ]
  },
  {
   "cell_type": "code",
   "execution_count": null,
   "metadata": {},
   "outputs": [],
   "source": []
  }
 ],
 "metadata": {
  "kernelspec": {
   "display_name": "Python 3",
   "language": "python",
   "name": "python3"
  },
  "language_info": {
   "codemirror_mode": {
    "name": "ipython",
    "version": 3
   },
   "file_extension": ".py",
   "mimetype": "text/x-python",
   "name": "python",
   "nbconvert_exporter": "python",
   "pygments_lexer": "ipython3",
   "version": "3.7.6"
  }
 },
 "nbformat": 4,
 "nbformat_minor": 4
}
