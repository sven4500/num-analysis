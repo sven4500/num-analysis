{
 "cells": [
  {
   "cell_type": "code",
   "execution_count": null,
   "metadata": {},
   "outputs": [],
   "source": [
    "import numpy as np\n",
    "import scipy\n",
    "from scipy import signal"
   ]
  },
  {
   "cell_type": "code",
   "execution_count": null,
   "metadata": {},
   "outputs": [],
   "source": [
    "# Функция возвращает 2-d массив. s (signal) входной сигнал. w (window) размер окна. n (number) размер ПБФ преобразования.\n",
    "# https://stackoverflow.com/questions/38191855/zero-pad-numpy-array/38192105\n",
    "def spectrogram(s, n, beta):\n",
    "    n_2 = int(n / 2)\n",
    "    \n",
    "    window = scipy.signal.windows.kaiser(n, beta)\n",
    "    \n",
    "    signal = np.zeros(len(s) + n)\n",
    "    signal[n_2:n_2+len(s)] = s\n",
    "    \n",
    "    result = []\n",
    "    \n",
    "    for i in range(len(s)):\n",
    "        local = signal[i:i+n] * window\n",
    "        fft = np.fft.fft(local, n=n)\n",
    "        result.append(fft[:n_2])\n",
    "        \n",
    "    return result"
   ]
  },
  {
   "cell_type": "code",
   "execution_count": null,
   "metadata": {},
   "outputs": [],
   "source": []
  }
 ],
 "metadata": {
  "kernelspec": {
   "display_name": "Python 3",
   "language": "python",
   "name": "python3"
  },
  "language_info": {
   "codemirror_mode": {
    "name": "ipython",
    "version": 3
   },
   "file_extension": ".py",
   "mimetype": "text/x-python",
   "name": "python",
   "nbconvert_exporter": "python",
   "pygments_lexer": "ipython3",
   "version": "3.7.6"
  }
 },
 "nbformat": 4,
 "nbformat_minor": 4
}
