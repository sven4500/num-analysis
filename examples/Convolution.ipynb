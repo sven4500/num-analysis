{
 "cells": [
  {
   "cell_type": "markdown",
   "metadata": {},
   "source": [
    "# Свертка данных. Ядерное сглаживание."
   ]
  },
  {
   "cell_type": "code",
   "execution_count": null,
   "metadata": {},
   "outputs": [],
   "source": [
    "%matplotlib inline\n",
    "\n",
    "import numpy as np\n",
    "import scipy.linalg as la\n",
    "import scipy.interpolate as interp\n",
    "import scipy.integrate as integrate\n",
    "import scipy.fftpack as fft\n",
    "import scipy.signal as signal\n",
    "import matplotlib as mpl\n",
    "import matplotlib.pyplot as plt\n",
    "\n",
    "default_dpi = mpl.rcParamsDefault['figure.dpi']\n",
    "factor = 1.5\n",
    "mpl.rcParams['figure.dpi'] = default_dpi * factor"
   ]
  },
  {
   "cell_type": "markdown",
   "metadata": {},
   "source": [
    "## Исходные данные"
   ]
  },
  {
   "cell_type": "code",
   "execution_count": null,
   "metadata": {},
   "outputs": [],
   "source": [
    "x = np.linspace(0, np.pi * 4, 101)\n",
    "y = 0. + 2.*np.sin(x * 2) + np.cos(x * 5 ) #+ np.sin(x * 25.5)\n",
    "\n",
    "n = len(x)\n",
    "\n",
    "print (x/(np.pi * 2))\n",
    "\n",
    "yd = np.zeros(len(x))\n",
    "\n",
    "plt.plot(x, y)\n",
    "Delta = 1.0 * np.random.randn(len(x))\n",
    "yd = y + Delta\n",
    "y_av = np.sum(y)/len(x)\n",
    "\n",
    "plt.figure ()\n",
    "\n",
    "plt.plot (x, yd, 'o')"
   ]
  },
  {
   "cell_type": "code",
   "execution_count": null,
   "metadata": {},
   "outputs": [],
   "source": [
    "Conv = np.zeros ((len(x)))\n",
    "W = np.zeros ((2*len(x)))\n",
    "\n",
    "W [-2] = 1./5\n",
    "W [-1] = 1./5.\n",
    "W [0] = 1./5.\n",
    "W [1] = 1./5.\n",
    "W [2] = 1./5.\n",
    "\n",
    "for i in range (0, n-1):\n",
    "    \n",
    "    Conv [i] = 0.\n",
    "    \n",
    "    for k in range (0, n-1):\n",
    "        Conv[i] = Conv[i] + yd[k]*W[i-k]\n",
    "        \n",
    "for i in range (2, 3):\n",
    "        print (i, Conv[i], np.sum(yd[(i-2):(i+3)])/5.)\n",
    "\n",
    "plt.figure ()\n",
    "plt.plot (x, y)\n",
    "plt.plot (x, yd, 'v')\n",
    "plt.plot (x, Conv, '--')"
   ]
  },
  {
   "cell_type": "markdown",
   "metadata": {},
   "source": [
    "# Автокорреляция"
   ]
  },
  {
   "cell_type": "markdown",
   "metadata": {},
   "source": [
    "## Исходные данные"
   ]
  },
  {
   "cell_type": "code",
   "execution_count": null,
   "metadata": {},
   "outputs": [],
   "source": [
    "x = np.linspace(0, np.pi * 6, 101)\n",
    "\n",
    "n = len(x)\n",
    "\n",
    "L = max(x) - min(x)\n",
    "\n",
    "y = 0. + 1.*np.sin(x * 2) + 2.*np.sin(x * 4 ) #+ np.sin(x * 25.5)\n",
    "\n",
    "#y = 1.0 * np.random.randn(len(x))\n",
    "\n",
    "#x = np.linspace(-10, 10, 101)\n",
    "#y = 5*np.exp(-10*x**2) * 0.\n",
    "\n",
    "#y[x>-1.]=1\n",
    "#y[x>1.]=0\n",
    "\n",
    "#y[x>np.pi * 2] = 0.\n",
    "\n",
    "#y[x>np.pi * 4] = 0.5 *np.sin(x [x>np.pi * 4]* 5)\n",
    "\n",
    "print (x/(np.pi))\n",
    "\n",
    "plt.plot(x/np.pi, y)"
   ]
  },
  {
   "cell_type": "markdown",
   "metadata": {},
   "source": [
    "## Автокорреляционная функция"
   ]
  },
  {
   "cell_type": "code",
   "execution_count": null,
   "metadata": {},
   "outputs": [],
   "source": [
    "Ac = np.zeros (n)\n",
    "\n",
    "y_av = np.sum(y)/n\n",
    "\n",
    "print (y_av)\n",
    "\n",
    "for k in range (0, n-1):\n",
    "    \n",
    "    Ac [k] = 0.\n",
    "    \n",
    "    for i in range (0, n-k-1):\n",
    "        Ac[k] = Ac[k] + (y[i]-y_av)*(y[i+k]-y_av)/(n-k-1)\n",
    "        \n",
    "plt.plot (x[0:int(n/2)]/L, Ac[0:(int(n/2))]/Ac[0])       \n"
   ]
  },
  {
   "cell_type": "markdown",
   "metadata": {},
   "source": [
    "# Оконное преобразование Фурье"
   ]
  },
  {
   "cell_type": "markdown",
   "metadata": {},
   "source": [
    "## Исходные данные"
   ]
  },
  {
   "cell_type": "code",
   "execution_count": null,
   "metadata": {},
   "outputs": [],
   "source": [
    "x = np.linspace(0, np.pi * 6, 101)\n",
    "\n",
    "n = len(x)\n",
    "\n",
    "L = max(x) - min(x)\n",
    "\n",
    "y = 0. + 0.5*np.sin(x * 2) #+ 2.*np.sin(x * 4 ) #+ np.sin(x * 25.5)\n",
    "\n",
    "y[x>np.pi * 2] = 0.\n",
    "\n",
    "y[x>np.pi * 4] = 1. *np.sin(x [x>np.pi * 4]* 4)\n",
    "\n",
    "print (x/(np.pi))\n",
    "\n",
    "plt.plot(x/np.pi, y)"
   ]
  },
  {
   "cell_type": "markdown",
   "metadata": {},
   "source": [
    "## Подвижное окно"
   ]
  },
  {
   "cell_type": "code",
   "execution_count": null,
   "metadata": {},
   "outputs": [],
   "source": [
    "B = np.zeros ((len(x)))\n",
    "\n",
    "dx = L / (n-1)\n",
    "\n",
    "xw = np.linspace(-L, L, 201)\n",
    "\n",
    "Win = np.zeros ((2*len(x)-1))\n",
    "\n",
    "WinSize = np.pi/2 #L #/3\n",
    "\n",
    "Win[abs(xw)<WinSize] = 1.\n",
    "\n",
    "plt.figure()\n",
    "plt.plot (xw/np.pi, Win)\n",
    "\n",
    "s = 25\n",
    "\n",
    "for i in range (0,n-1):\n",
    "             \n",
    "    B[i] = y[i] * Win[i-s+n]                        \n",
    "       \n",
    "plt.figure ()    \n",
    "plt.plot (x/np.pi, B)\n"
   ]
  },
  {
   "cell_type": "markdown",
   "metadata": {},
   "source": [
    "## Оконное преобразование 1"
   ]
  },
  {
   "cell_type": "code",
   "execution_count": null,
   "metadata": {},
   "outputs": [],
   "source": [
    "a = np.zeros ((len(x)))\n",
    "b = np.zeros ((len(x)))\n",
    "A = np.zeros ((len(x)))\n",
    "\n",
    "CosTerm = np.zeros ((len(x)))\n",
    "SinTerm = np.zeros ((len(x)))\n",
    "\n",
    "k = 2\n",
    "\n",
    "for s in range (0,n-1): \n",
    "    \n",
    "    a[s]=0.\n",
    "    b[s]=0.\n",
    "       \n",
    "    for i in range (0,n-1):\n",
    "    \n",
    "        a[s] +=  2./ WinSize /2 * y[i] * Win[i-s+n] * np.cos(2*np.pi*x[i]/L * k) * dx \n",
    "        b[s] +=  2./ WinSize /2 * y[i] * Win[i-s+n] * np.sin(2*np.pi*x[i]/L * k) * dx \n",
    "        \n",
    "        \n",
    "plt.figure()\n",
    "plt.plot(x/np.pi, (a**2+b**2)**0.5)\n",
    "    "
   ]
  },
  {
   "cell_type": "markdown",
   "metadata": {},
   "source": [
    "## Оконное преобразование 2"
   ]
  },
  {
   "cell_type": "code",
   "execution_count": null,
   "metadata": {},
   "outputs": [],
   "source": [
    "nf = 15\n",
    "\n",
    "a2 = np.zeros((n,nf))\n",
    "b2 = np.zeros((n,nf))\n",
    "A2 = np.zeros((n,nf))\n",
    "\n",
    "Freq = np.zeros ((len(x)))\n",
    "Shift = np.zeros ((len(x)))\n",
    "\n",
    "CosTerm = np.zeros ((len(x)))\n",
    "SinTerm = np.zeros ((len(x)))\n",
    "\n",
    "for k in range (0,nf):\n",
    "    \n",
    "    Freq [k] = k\n",
    "\n",
    "    for s in range (0,n-1):\n",
    "        \n",
    "        Shift[s] = s\n",
    "    \n",
    "        a2[s,k]=0.\n",
    "        b2[s,k]=0.\n",
    "       \n",
    "        for i in range (0,n-1):\n",
    "    \n",
    "            a2[s,k] +=  2./ WinSize /2 * y[i] * Win[i-s+n] * np.cos(2*np.pi*x[i]/L * k) * dx \n",
    "            b2[s,k] +=  2./ WinSize /2 * y[i] * Win[i-s+n] * np.sin(2*np.pi*x[i]/L * k) * dx\n",
    "        \n",
    "                                   \n",
    "A2 = (a2**2+b2**2)**0.5 \n",
    "\n",
    "\n",
    "plt.figure()\n",
    "plt.contourf(x/np.pi, Freq[0:15], A2.T, 100, cmap='rainbow')\n",
    "plt.colorbar()"
   ]
  },
  {
   "cell_type": "code",
   "execution_count": null,
   "metadata": {},
   "outputs": [],
   "source": []
  },
  {
   "cell_type": "code",
   "execution_count": null,
   "metadata": {},
   "outputs": [],
   "source": []
  }
 ],
 "metadata": {
  "kernelspec": {
   "display_name": "Python 3",
   "language": "python",
   "name": "python3"
  },
  "language_info": {
   "codemirror_mode": {
    "name": "ipython",
    "version": 3
   },
   "file_extension": ".py",
   "mimetype": "text/x-python",
   "name": "python",
   "nbconvert_exporter": "python",
   "pygments_lexer": "ipython3",
   "version": "3.7.6"
  }
 },
 "nbformat": 4,
 "nbformat_minor": 2
}
