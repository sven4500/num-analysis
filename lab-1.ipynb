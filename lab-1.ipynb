{
 "cells": [
  {
   "cell_type": "code",
   "execution_count": null,
   "metadata": {},
   "outputs": [],
   "source": [
    "import numpy as np\n",
    "import scipy\n",
    "from scipy import integrate\n",
    "from scipy.integrate import odeint\n",
    "import matplotlib.pyplot"
   ]
  },
  {
   "cell_type": "markdown",
   "metadata": {},
   "source": [
    "Модель сигмоида."
   ]
  },
  {
   "cell_type": "code",
   "execution_count": null,
   "metadata": {},
   "outputs": [],
   "source": [
    "def du(u, t, a = 0.1, b = 0.5):\n",
    "    return a * u - b * (u**2)"
   ]
  },
  {
   "cell_type": "code",
   "execution_count": null,
   "metadata": {},
   "outputs": [],
   "source": [
    "u = 0.0001\n",
    "t = np.linspace(-100., 100., 1000)\n",
    "w = scipy.integrate.odeint(du, u, t)\n",
    "matplotlib.pyplot.plot(t, w)"
   ]
  },
  {
   "cell_type": "markdown",
   "metadata": {},
   "source": [
    "Модель с ограниченным ресурсом. Взлёт-падение."
   ]
  },
  {
   "cell_type": "code",
   "execution_count": null,
   "metadata": {},
   "outputs": [],
   "source": [
    "def du_plus_dv(X, t, a = 0.2, b = 0.15, c = 0.1):\n",
    "    du = -a * X[0] + b * X[0] * X[1]\n",
    "    dv = -c * X[0] * X[1]\n",
    "    return [du, dv]"
   ]
  },
  {
   "cell_type": "code",
   "execution_count": null,
   "metadata": {},
   "outputs": [],
   "source": [
    "u = 0.001\n",
    "v = 10.\n",
    "t = np.linspace(0., 25., 1000)\n",
    "w = scipy.integrate.odeint(du_plus_dv, [u, v], t)\n",
    "matplotlib.pyplot.plot(t, w)"
   ]
  },
  {
   "cell_type": "code",
   "execution_count": null,
   "metadata": {},
   "outputs": [],
   "source": [
    "matplotlib.pyplot.plot([i[0] for i in w], [i[1] for i in w])"
   ]
  },
  {
   "cell_type": "markdown",
   "metadata": {},
   "source": [
    "Модель хищник-жертва Лотки-Вольтерра. В качестве исходного примера используем: https://scipy-cookbook.readthedocs.io/items/LoktaVolterraTutorial.html, http://theflyingkeyboard.net/algorithms/python-lotka-volterra-equations/, "
   ]
  },
  {
   "cell_type": "code",
   "execution_count": null,
   "metadata": {},
   "outputs": [],
   "source": [
    "u = 10. # количество жертв\n",
    "v = 5. # количество охотников\n",
    "\n",
    "# параметры системы уравнений\n",
    "a = 0.9\n",
    "b = 0.1\n",
    "c = 0.4\n",
    "d = 0.1\n",
    "\n",
    "# шаг\n",
    "step = 0.001\n",
    "\n",
    "U = []\n",
    "V = []\n",
    "\n",
    "for _ in range(100000):\n",
    "    U.append(u)\n",
    "    V.append(v)\n",
    "    du = a * u - b * u * v\n",
    "    dv = -c * v + d * u * v\n",
    "    u += du * step\n",
    "    v += dv * step"
   ]
  },
  {
   "cell_type": "code",
   "execution_count": null,
   "metadata": {},
   "outputs": [],
   "source": [
    "matplotlib.pyplot.plot(U)\n",
    "matplotlib.pyplot.plot(V)"
   ]
  },
  {
   "cell_type": "code",
   "execution_count": null,
   "metadata": {},
   "outputs": [],
   "source": [
    "matplotlib.pyplot.plot(U, V)"
   ]
  },
  {
   "cell_type": "code",
   "execution_count": null,
   "metadata": {},
   "outputs": [],
   "source": [
    "a = 0.9\n",
    "b = 0.1\n",
    "c = 0.4\n",
    "d = 0.1\n",
    "def du_plus_dv(X, t):\n",
    "    du = a * X[0] - b * X[0] * X[1]\n",
    "    dv = -c * X[1] + d * X[0] * X[1]\n",
    "    return [du, dv]"
   ]
  },
  {
   "cell_type": "code",
   "execution_count": null,
   "metadata": {},
   "outputs": [],
   "source": [
    "u = 10.\n",
    "v = 5.\n",
    "t = np.linspace(0., 100., 100000)\n",
    "w = scipy.integrate.odeint(du_plus_dv, [u, v], t)\n",
    "matplotlib.pyplot.plot(t, w)"
   ]
  },
  {
   "cell_type": "code",
   "execution_count": null,
   "metadata": {},
   "outputs": [],
   "source": [
    "matplotlib.pyplot.plot([i[0] for i in w], [i[1] for i in w])"
   ]
  },
  {
   "cell_type": "code",
   "execution_count": null,
   "metadata": {},
   "outputs": [],
   "source": []
  }
 ],
 "metadata": {
  "kernelspec": {
   "display_name": "Python 3",
   "language": "python",
   "name": "python3"
  },
  "language_info": {
   "codemirror_mode": {
    "name": "ipython",
    "version": 3
   },
   "file_extension": ".py",
   "mimetype": "text/x-python",
   "name": "python",
   "nbconvert_exporter": "python",
   "pygments_lexer": "ipython3",
   "version": "3.7.6"
  }
 },
 "nbformat": 4,
 "nbformat_minor": 4
}
