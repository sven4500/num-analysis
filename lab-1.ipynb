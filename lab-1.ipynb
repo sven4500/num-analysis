{
 "cells": [
  {
   "cell_type": "markdown",
   "metadata": {},
   "source": [
    "Модель системы Лотки-Вольтерры. В качестве исходного примера используем: https://scipy-cookbook.readthedocs.io/items/LoktaVolterraTutorial.html, http://theflyingkeyboard.net/algorithms/python-lotka-volterra-equations/, "
   ]
  },
  {
   "cell_type": "code",
   "execution_count": null,
   "metadata": {},
   "outputs": [],
   "source": [
    "import numpy as np\n",
    "import scipy\n",
    "from scipy import integrate\n",
    "from scipy.integrate import odeint\n",
    "import matplotlib.pyplot\n",
    "#from matplotlib import pyplot\n",
    "#import sympy"
   ]
  },
  {
   "cell_type": "code",
   "execution_count": null,
   "metadata": {},
   "outputs": [],
   "source": [
    "u = 10. # количество жертв\n",
    "v = 5. # количество охотников\n",
    "\n",
    "# параметры системы уравнений\n",
    "a = 0.9\n",
    "b = 0.1\n",
    "c = 0.4\n",
    "d = 0.1\n",
    "\n",
    "# шаг\n",
    "step = 0.001\n",
    "\n",
    "U = []\n",
    "V = []\n",
    "\n",
    "for _ in range(100000):\n",
    "    U.append(u)\n",
    "    V.append(v)\n",
    "    du = a * u - b * u * v\n",
    "    dv = -c * v + d * u * v\n",
    "    u += du * step\n",
    "    v += dv * step"
   ]
  },
  {
   "cell_type": "code",
   "execution_count": null,
   "metadata": {},
   "outputs": [],
   "source": [
    "matplotlib.pyplot.plot(U)\n",
    "matplotlib.pyplot.plot(V)"
   ]
  },
  {
   "cell_type": "code",
   "execution_count": null,
   "metadata": {},
   "outputs": [],
   "source": [
    "a = 0.9\n",
    "b = 0.1\n",
    "c = 0.4\n",
    "d = 0.1\n",
    "\n",
    "def du_plus_dv(X, t):\n",
    "    return [a * X[0] - b * X[0] * X[1], -c * X[1] + d * X[0] * X[1]]"
   ]
  },
  {
   "cell_type": "code",
   "execution_count": null,
   "metadata": {},
   "outputs": [],
   "source": [
    "u = 10.\n",
    "v = 5.\n",
    "t = np.linspace(0., 100., 1000)\n",
    "w = scipy.integrate.odeint(du_plus_dv, [u, v], t)\n",
    "matplotlib.pyplot.plot(t, w)"
   ]
  },
  {
   "cell_type": "code",
   "execution_count": null,
   "metadata": {},
   "outputs": [],
   "source": []
  }
 ],
 "metadata": {
  "kernelspec": {
   "display_name": "Python 3",
   "language": "python",
   "name": "python3"
  },
  "language_info": {
   "codemirror_mode": {
    "name": "ipython",
    "version": 3
   },
   "file_extension": ".py",
   "mimetype": "text/x-python",
   "name": "python",
   "nbconvert_exporter": "python",
   "pygments_lexer": "ipython3",
   "version": "3.6.8"
  }
 },
 "nbformat": 4,
 "nbformat_minor": 4
}
