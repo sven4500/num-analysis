{
 "cells": [
  {
   "cell_type": "code",
   "execution_count": null,
   "metadata": {},
   "outputs": [],
   "source": [
    "import numpy as np\n",
    "import matplotlib.pyplot"
   ]
  },
  {
   "cell_type": "code",
   "execution_count": null,
   "metadata": {},
   "outputs": [],
   "source": [
    "# Функция генерирует полином заданной степени, где коэффициенты полинома задаются через параметр coeff.\n",
    "def polynomial(x, coeff):\n",
    "    y = 0\n",
    "    for i in range(len(coeff)):\n",
    "        y += coeff[i] * x ** i\n",
    "    return y;"
   ]
  },
  {
   "cell_type": "code",
   "execution_count": null,
   "metadata": {},
   "outputs": [],
   "source": [
    "# Здесь важно сохранить полный период, т.е. [0;2*pi). Последюю точку не включаем. Для этого нужен параметр endpoint=False.\n",
    "n = 100\n",
    "x = np.linspace(0, np.pi * 2, n, endpoint=False)\n",
    "y = 0. + 2.*np.sin(x*2) + np.cos(x*5)\n",
    "matplotlib.pyplot.plot(x, y)"
   ]
  },
  {
   "cell_type": "code",
   "execution_count": null,
   "metadata": {},
   "outputs": [],
   "source": [
    "# https://dsp.stackexchange.com/questions/8604/fft-of-sine-wave-not-coming-as-expected-i-e-single-point\n",
    "direct = np.fft.fft(y)\n",
    "\n",
    "d_cos_term = direct.real\n",
    "d_sin_term = direct.imag\n",
    "\n",
    "# Интересующий нас участок это N/2. Также для нас имеет интерес кривая амплитуд КЧ.\n",
    "matplotlib.pyplot.xlim(right=n/2)\n",
    "#matplotlib.pyplot.plot(d_cos_term, 'r.')\n",
    "#matplotlib.pyplot.plot(d_sin_term, 'b.')\n",
    "matplotlib.pyplot.plot(np.abs(direct), 'g.')"
   ]
  },
  {
   "cell_type": "code",
   "execution_count": null,
   "metadata": {},
   "outputs": [],
   "source": [
    "inverse = np.fft.ifft(direct)\n",
    "\n",
    "i_cos_term = inverse.real\n",
    "i_sin_term = inverse.imag\n",
    "\n",
    "# При обратном преобразовании нам интересна действительная часть (Re) преобразования.\n",
    "matplotlib.pyplot.plot(i_cos_term, 'r')\n",
    "#matplotlib.pyplot.plot(i_sin_term, 'b')\n",
    "#matplotlib.pyplot.plot(np.abs(inverse), 'g')"
   ]
  },
  {
   "cell_type": "markdown",
   "metadata": {},
   "source": [
    "## Проверка. Портим шумами исходную функцию. Переходим в частотную область и избавляемся от частот с малыми амплитудами. После возвращения обратно во временную область, сравниваем результаты."
   ]
  },
  {
   "cell_type": "code",
   "execution_count": null,
   "metadata": {},
   "outputs": [],
   "source": [
    "# Портим шумами исходную функцию.\n",
    "s = 1/3\n",
    "y_dist = y + np.random.normal(0., s, size=len(y))\n",
    "matplotlib.pyplot.plot(y_dist)"
   ]
  },
  {
   "cell_type": "code",
   "execution_count": null,
   "metadata": {},
   "outputs": [],
   "source": [
    "# Переходим в частотную область.\n",
    "d_fft = np.fft.fft(y_dist)\n",
    "\n",
    "d_cos_term = d_fft.real\n",
    "d_sin_term = d_fft.imag\n",
    "\n",
    "matplotlib.pyplot.xlim(right=n/2)\n",
    "#matplotlib.pyplot.plot(d_cos_term, 'r.')\n",
    "#matplotlib.pyplot.plot(d_sin_term, 'b.')\n",
    "matplotlib.pyplot.plot(np.abs(d_fft), 'g.')"
   ]
  },
  {
   "cell_type": "code",
   "execution_count": null,
   "metadata": {},
   "outputs": [],
   "source": [
    "mean = np.mean(np.abs(d_fft))\n",
    "c = 2.0\n",
    "\n",
    "# Обнуляем частоты амплитуда которых меньше средней амплитуды по частотам.\n",
    "d_fft_restored = [val if np.abs(val) > c * mean else 0. for val in d_fft]\n",
    "\n",
    "#d_cos_term = [val.real for val in d_fft_restored]\n",
    "#d_sin_term = [val.imag for val in d_fft_restored]\n",
    "\n",
    "matplotlib.pyplot.xlim(right=n/2)\n",
    "#matplotlib.pyplot.plot(d_cos_term, 'r.')\n",
    "#matplotlib.pyplot.plot(d_sin_term, 'b.')\n",
    "\n",
    "matplotlib.pyplot.plot(np.abs(direct), 'r.')\n",
    "matplotlib.pyplot.plot(np.abs(d_fft_restored), 'g.')"
   ]
  },
  {
   "cell_type": "code",
   "execution_count": null,
   "metadata": {},
   "outputs": [],
   "source": [
    "i_fft_restored = np.fft.ifft(d_fft_restored)\n",
    "\n",
    "matplotlib.pyplot.plot(y, 'r')\n",
    "matplotlib.pyplot.plot(i_fft_restored.real, 'g')"
   ]
  },
  {
   "cell_type": "code",
   "execution_count": null,
   "metadata": {},
   "outputs": [],
   "source": []
  }
 ],
 "metadata": {
  "kernelspec": {
   "display_name": "Python 3",
   "language": "python",
   "name": "python3"
  },
  "language_info": {
   "codemirror_mode": {
    "name": "ipython",
    "version": 3
   },
   "file_extension": ".py",
   "mimetype": "text/x-python",
   "name": "python",
   "nbconvert_exporter": "python",
   "pygments_lexer": "ipython3",
   "version": "3.7.6"
  }
 },
 "nbformat": 4,
 "nbformat_minor": 4
}
