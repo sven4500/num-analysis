{
 "cells": [
  {
   "cell_type": "code",
   "execution_count": null,
   "metadata": {},
   "outputs": [],
   "source": [
    "import numpy as np\n",
    "import matplotlib.pyplot"
   ]
  },
  {
   "cell_type": "code",
   "execution_count": null,
   "metadata": {},
   "outputs": [],
   "source": [
    "# Функция генерирует полином заданной степени, где коэффициенты полинома задаются через параметр coeff.\n",
    "def polynomial(x, coeff):\n",
    "    y = 0\n",
    "    for i in range(len(coeff)):\n",
    "        y += coeff[i] * x ** i\n",
    "    return y;"
   ]
  },
  {
   "cell_type": "code",
   "execution_count": null,
   "metadata": {},
   "outputs": [],
   "source": [
    "x = np.linspace(-1., 1., 128)\n",
    "y = 0. + 2.*np.sin(x * 2) + np.cos(x * 5)\n",
    "matplotlib.pyplot.plot(x, y)"
   ]
  },
  {
   "cell_type": "code",
   "execution_count": null,
   "metadata": {},
   "outputs": [],
   "source": [
    "# https://dsp.stackexchange.com/questions/8604/fft-of-sine-wave-not-coming-as-expected-i-e-single-point\n",
    "direct = np.fft.fft(y)\n",
    "\n",
    "d_cos_term = direct.real\n",
    "d_sin_term = direct.imag\n",
    "\n",
    "matplotlib.pyplot.plot(d_cos_term, 'r.')\n",
    "matplotlib.pyplot.plot(d_sin_term, 'b.')\n",
    "#matplotlib.pyplot.plot(np.abs(direct), 'g.')"
   ]
  },
  {
   "cell_type": "code",
   "execution_count": null,
   "metadata": {},
   "outputs": [],
   "source": [
    "inverse = np.fft.ifft(direct)\n",
    "\n",
    "i_cos_term = inverse.real\n",
    "i_sin_term = inverse.imag\n",
    "\n",
    "matplotlib.pyplot.plot(i_cos_term, 'r')\n",
    "matplotlib.pyplot.plot(i_sin_term, 'b')\n",
    "matplotlib.pyplot.plot(np.abs(inverse), 'g')"
   ]
  },
  {
   "cell_type": "code",
   "execution_count": null,
   "metadata": {},
   "outputs": [],
   "source": []
  }
 ],
 "metadata": {
  "kernelspec": {
   "display_name": "Python 3",
   "language": "python",
   "name": "python3"
  },
  "language_info": {
   "codemirror_mode": {
    "name": "ipython",
    "version": 3
   },
   "file_extension": ".py",
   "mimetype": "text/x-python",
   "name": "python",
   "nbconvert_exporter": "python",
   "pygments_lexer": "ipython3",
   "version": "3.7.6"
  }
 },
 "nbformat": 4,
 "nbformat_minor": 4
}
